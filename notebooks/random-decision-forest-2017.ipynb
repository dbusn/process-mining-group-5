{
 "cells": [
  {
   "cell_type": "markdown",
   "id": "9c5ca65a",
   "metadata": {},
   "source": [
    "# Import modules"
   ]
  },
  {
   "cell_type": "code",
   "execution_count": 12,
   "id": "3a7473da",
   "metadata": {},
   "outputs": [],
   "source": [
    "import numpy as np\n",
    "import pandas as pd\n",
    "import datetime as datetime\n",
    "from sklearn.ensemble import RandomForestClassifier"
   ]
  },
  {
   "cell_type": "markdown",
   "id": "1ac07b31",
   "metadata": {},
   "source": [
    "## Convert time: timestamp and registration date to unix timestamp"
   ]
  },
  {
   "cell_type": "code",
   "execution_count": 13,
   "id": "ee1ec634",
   "metadata": {},
   "outputs": [
    {
     "name": "stderr",
     "output_type": "stream",
     "text": [
      "/var/folders/lh/s2l49w850tq2lvbfyqst82j00000gn/T/ipykernel_26889/2956044118.py:8: DeprecationWarning: parsing timezone aware datetimes is deprecated; this will raise an error in the future\n",
      "  df_train['Date'] = np.array(df_train['time:timestamp'].values, dtype = 'datetime64').astype(datetime.datetime)\n",
      "/var/folders/lh/s2l49w850tq2lvbfyqst82j00000gn/T/ipykernel_26889/2956044118.py:12: DeprecationWarning: parsing timezone aware datetimes is deprecated; this will raise an error in the future\n",
      "  df_test['Date'] = np.array(df_test['time:timestamp'].values, dtype = 'datetime64').astype(datetime.datetime)\n",
      "/var/folders/lh/s2l49w850tq2lvbfyqst82j00000gn/T/ipykernel_26889/2956044118.py:16: DeprecationWarning: parsing timezone aware datetimes is deprecated; this will raise an error in the future\n",
      "  df_val['Date'] = np.array(df_val['time:timestamp'].values, dtype = 'datetime64').astype(datetime.datetime)\n"
     ]
    }
   ],
   "source": [
    "# Read the split dataset\n",
    "# Available on github/data/splits\n",
    "df_train = pd.read_csv('bpi2017_train.csv')\n",
    "df_test = pd.read_csv('bpi2017_test.csv')\n",
    "df_val = pd.read_csv('bpi2017_val.csv')\n",
    "\n",
    "# Perform conversion\n",
    "df_train['Date'] = np.array(df_train['time:timestamp'].values, dtype = 'datetime64').astype(datetime.datetime)\n",
    "\n",
    "df_train['time:unix'] = (df_train['Date'] - pd.Timestamp(\"1970-01-01\")) // pd.Timedelta('1s')\n",
    "\n",
    "df_test['Date'] = np.array(df_test['time:timestamp'].values, dtype = 'datetime64').astype(datetime.datetime)\n",
    "\n",
    "df_test['time:unix'] = (df_test['Date'] - pd.Timestamp(\"1970-01-01\")) // pd.Timedelta('1s')\n",
    "\n",
    "df_val['Date'] = np.array(df_val['time:timestamp'].values, dtype = 'datetime64').astype(datetime.datetime)\n",
    "\n",
    "df_val['time:unix'] = (df_val['Date'] - pd.Timestamp(\"1970-01-01\")) // pd.Timedelta('1s')"
   ]
  },
  {
   "cell_type": "code",
   "execution_count": 14,
   "id": "143a5701",
   "metadata": {},
   "outputs": [],
   "source": [
    "# Define mapping \n",
    "mapping_train = {item:i for i, item in enumerate(df_train[\"lifecycle:transition\"].unique())}\n",
    "mapping_test = {item:i for i, item in enumerate(df_test[\"lifecycle:transition\"].unique())}\n",
    "mapping_val = {item:i for i, item in enumerate(df_val[\"lifecycle:transition\"].unique())}\n",
    "\n",
    "# Apply mapping\n",
    "df_train[\"transition\"] = df_train[\"lifecycle:transition\"].apply(lambda x: mapping_train[x])\n",
    "df_test[\"transition\"] = df_test[\"lifecycle:transition\"].apply(lambda x: mapping_test[x])\n",
    "df_val[\"transition\"] = df_val[\"lifecycle:transition\"].apply(lambda x: mapping_val[x])"
   ]
  },
  {
   "cell_type": "code",
   "execution_count": 15,
   "id": "5672f0b1",
   "metadata": {},
   "outputs": [
    {
     "data": {
      "text/plain": [
       "RandomForestClassifier(n_estimators=50)"
      ]
     },
     "execution_count": 15,
     "metadata": {},
     "output_type": "execute_result"
    }
   ],
   "source": [
    "# Drop all NaNs\n",
    "# df_train.dropna(axis=0, inplace=True)\n",
    "# df_test.dropna(axis=0, inplace=True)\n",
    "# df_val.dropna(axis=0, inplace=True)\n",
    "\n",
    "# Define predictors\n",
    "predictors=['time:unix','transition']\n",
    "\n",
    "# Define the classifier\n",
    "rfc = RandomForestClassifier(n_estimators=50)\n",
    "\n",
    "# Fit the model\n",
    "rfc.fit(df_train[predictors], df_train['concept:name'])"
   ]
  },
  {
   "cell_type": "code",
   "execution_count": 16,
   "id": "8b1afbd1",
   "metadata": {},
   "outputs": [],
   "source": [
    "pred_test = rfc.predict(df_test[predictors])\n",
    "pred_val = rfc.predict(df_val[predictors])\n",
    "\n",
    "df_test['predicted_action'] = pred_test\n",
    "df_val['predicted_action'] = pred_val"
   ]
  },
  {
   "cell_type": "code",
   "execution_count": 17,
   "id": "9b9d9388",
   "metadata": {},
   "outputs": [
    {
     "name": "stdout",
     "output_type": "stream",
     "text": [
      "Accuracy:  0.2177497919341415\n"
     ]
    }
   ],
   "source": [
    "from sklearn import metrics\n",
    "actions_taken = df_val['concept:name']\n",
    "actions_taken = actions_taken[1:]\n",
    "\n",
    "actions_pred = df_val['predicted_action']\n",
    "actions_pred = actions_pred[:-1]\n",
    "\n",
    "test = pd.concat([actions_taken, actions_pred], axis=1)\n",
    "test.dropna(axis=0, inplace=True)\n",
    "\n",
    "print(\"Accuracy: \", metrics.accuracy_score(test['concept:name'], test['predicted_action']))"
   ]
  },
  {
   "cell_type": "code",
   "execution_count": null,
   "id": "8dc01a13",
   "metadata": {},
   "outputs": [],
   "source": []
  }
 ],
 "metadata": {
  "kernelspec": {
   "display_name": "Python 3 (ipykernel)",
   "language": "python",
   "name": "python3"
  },
  "language_info": {
   "codemirror_mode": {
    "name": "ipython",
    "version": 3
   },
   "file_extension": ".py",
   "mimetype": "text/x-python",
   "name": "python",
   "nbconvert_exporter": "python",
   "pygments_lexer": "ipython3",
   "version": "3.9.7"
  }
 },
 "nbformat": 4,
 "nbformat_minor": 5
}
