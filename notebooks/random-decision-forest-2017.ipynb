{
 "cells": [
  {
   "cell_type": "markdown",
   "metadata": {},
   "source": [
    "# Import modules"
   ]
  },
  {
   "cell_type": "code",
   "execution_count": 1,
   "metadata": {},
   "outputs": [],
   "source": [
    "import numpy as np\n",
    "import pandas as pd\n",
    "import datetime as datetime\n",
    "from sklearn.ensemble import RandomForestClassifier\n",
    "from sklearn import metrics\n",
    "from tqdm import tqdm"
   ]
  },
  {
   "cell_type": "markdown",
   "metadata": {},
   "source": [
    "## Convert time: timestamp and registration date to unix timestamp"
   ]
  },
  {
   "cell_type": "code",
   "execution_count": 2,
   "metadata": {},
   "outputs": [
    {
     "name": "stderr",
     "output_type": "stream",
     "text": [
      "C:\\ProgramData\\Anaconda3\\lib\\site-packages\\ipykernel_launcher.py:8: DeprecationWarning: parsing timezone aware datetimes is deprecated; this will raise an error in the future\n",
      "  \n",
      "C:\\ProgramData\\Anaconda3\\lib\\site-packages\\ipykernel_launcher.py:10: DeprecationWarning: parsing timezone aware datetimes is deprecated; this will raise an error in the future\n",
      "  # Remove the CWD from sys.path while we load stuff.\n",
      "C:\\ProgramData\\Anaconda3\\lib\\site-packages\\ipykernel_launcher.py:12: DeprecationWarning: parsing timezone aware datetimes is deprecated; this will raise an error in the future\n",
      "  if sys.path[0] == '':\n"
     ]
    }
   ],
   "source": [
    "# Read the split dataset\n",
    "# Available on github/data/splits\n",
    "df_train = pd.read_csv('bpi2017_train.csv')\n",
    "df_test = pd.read_csv('bpi2017_test.csv')\n",
    "df_val = pd.read_csv('bpi2017_val.csv')\n",
    "\n",
    "# Perform conversion\n",
    "df_train['Date'] = np.array(df_train['time:timestamp'].values, dtype = 'datetime64').astype(datetime.datetime)\n",
    "df_train['time:unix'] = (df_train['Date'] - pd.Timestamp(\"1970-01-01\")) // pd.Timedelta('1s')\n",
    "df_test['Date'] = np.array(df_test['time:timestamp'].values, dtype = 'datetime64').astype(datetime.datetime)\n",
    "df_test['time:unix'] = (df_test['Date'] - pd.Timestamp(\"1970-01-01\")) // pd.Timedelta('1s')\n",
    "df_val['Date'] = np.array(df_val['time:timestamp'].values, dtype = 'datetime64').astype(datetime.datetime)\n",
    "df_val['time:unix'] = (df_val['Date'] - pd.Timestamp(\"1970-01-01\")) // pd.Timedelta('1s')"
   ]
  },
  {
   "cell_type": "code",
   "execution_count": 3,
   "metadata": {},
   "outputs": [],
   "source": [
    "# Define mapping \n",
    "mapping_train = {item:i for i, item in enumerate(df_train[\"lifecycle:transition\"].unique())}\n",
    "mapping_test = {item:i for i, item in enumerate(df_test[\"lifecycle:transition\"].unique())}\n",
    "mapping_val = {item:i for i, item in enumerate(df_val[\"lifecycle:transition\"].unique())}\n",
    "\n",
    "# Apply mapping\n",
    "df_train[\"transition\"] = df_train[\"lifecycle:transition\"].apply(lambda x: mapping_train[x])\n",
    "df_test[\"transition\"] = df_test[\"lifecycle:transition\"].apply(lambda x: mapping_test[x])\n",
    "df_val[\"transition\"] = df_val[\"lifecycle:transition\"].apply(lambda x: mapping_val[x])"
   ]
  },
  {
   "cell_type": "code",
   "execution_count": 4,
   "metadata": {},
   "outputs": [],
   "source": [
    "def Forest(n):\n",
    "    df_1 = df_train.copy()\n",
    "    df_2 = df_val.copy()\n",
    "    # Define predictors\n",
    "    predictors = ['time:unix', 'transition']\n",
    "    # Define the classifier\n",
    "    rfc = RandomForestClassifier(n_estimators = n)\n",
    "    # Fit the model\n",
    "    rfc.fit(df_1[predictors], df_1['concept:name'])\n",
    "    pred_val = rfc.predict(df_2[predictors])\n",
    "    df_2['predicted_action'] = pred_val\n",
    "    #\n",
    "    actions_taken = df_2['concept:name']\n",
    "    actions_taken = actions_taken[1: ]\n",
    "    #\n",
    "    actions_pred = df_2['predicted_action']\n",
    "    actions_pred = actions_pred[: -1]\n",
    "    #\n",
    "    test = pd.concat([actions_taken, actions_pred], axis=1)\n",
    "    test.dropna(axis=0, inplace=True)\n",
    "    #\n",
    "    return metrics.accuracy_score(test['concept:name'], test['predicted_action'])"
   ]
  },
  {
   "cell_type": "code",
   "execution_count": 5,
   "metadata": {},
   "outputs": [
    {
     "name": "stderr",
     "output_type": "stream",
     "text": [
      "100%|███████████████████████████████████████████████████████████████████████████████| 20/20 [1:11:05<00:00, 213.29s/it]\n"
     ]
    },
    {
     "data": {
      "text/plain": [
       "[0.21457292242077,\n",
       " 0.21720642832367715,\n",
       " 0.2152023945634161,\n",
       " 0.21624295055432088,\n",
       " 0.21644206929332116,\n",
       " 0.2166733039579667,\n",
       " 0.2164741852189664,\n",
       " 0.21666688077283763,\n",
       " 0.21711650373187055,\n",
       " 0.21678892129028943,\n",
       " 0.2173091992857418,\n",
       " 0.216724689438999,\n",
       " 0.21745693254370976,\n",
       " 0.21700730958467684,\n",
       " 0.21689811543748314,\n",
       " 0.2169559241036445,\n",
       " 0.21762393535706487,\n",
       " 0.21707154143596727,\n",
       " 0.217951517798646,\n",
       " 0.21785517002171037]"
      ]
     },
     "execution_count": 5,
     "metadata": {},
     "output_type": "execute_result"
    }
   ],
   "source": [
    "n_lst = [10 * (i + 1) for i in range(20)]\n",
    "accuracy_lst = [Forest(i) for i in tqdm(n_lst)]\n",
    "accuracy_lst"
   ]
  },
  {
   "cell_type": "code",
   "execution_count": 9,
   "metadata": {},
   "outputs": [
    {
     "data": {
      "text/plain": [
       "[<matplotlib.lines.Line2D at 0x20f43f01488>]"
      ]
     },
     "execution_count": 9,
     "metadata": {},
     "output_type": "execute_result"
    },
    {
     "data": {
      "image/png": "[encoded data removed]",
      "text/plain": [
       "<Figure size 432x288 with 1 Axes>"
      ]
     },
     "metadata": {
      "needs_background": "light"
     },
     "output_type": "display_data"
    }
   ],
   "source": [
    "import matplotlib.pyplot as plt\n",
    "plt.plot(accuracy_lst, color='magenta', marker='o',mfc='pink' ) #plot the data\n",
    "#plt.xticks(n_lst) #set the tick frequency on x-axis"
   ]
  }
 ],
 "metadata": {
  "kernelspec": {
   "display_name": "Python 3",
   "language": "python",
   "name": "python3"
  },
  "language_info": {
   "codemirror_mode": {
    "name": "ipython",
    "version": 3
   },
   "file_extension": ".py",
   "mimetype": "text/x-python",
   "name": "python",
   "nbconvert_exporter": "python",
   "pygments_lexer": "ipython3",
   "version": "3.7.6"
  }
 },
 "nbformat": 4,
 "nbformat_minor": 5
}
