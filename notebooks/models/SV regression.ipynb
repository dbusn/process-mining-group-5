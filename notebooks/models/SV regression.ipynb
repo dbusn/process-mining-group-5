{
 "cells": [
  {
   "cell_type": "markdown",
   "id": "aebf4927",
   "metadata": {},
   "source": [
    "# SVM regression\n",
    "## imports of libraries and data, adjusting features"
   ]
  },
  {
   "cell_type": "code",
   "execution_count": 33,
   "id": "648e9523",
   "metadata": {},
   "outputs": [],
   "source": [
    "from sklearn.svm import SVR\n",
    "from sklearn.pipeline import make_pipeline\n",
    "from sklearn.preprocessing import StandardScaler\n",
    "import psutil\n",
    "import os\n",
    "import sys\n",
    "import numpy as np\n",
    "import pandas as pd\n",
    "import re\n",
    "from tqdm import tqdm\n",
    "import datetime as datetime\n",
    "import seaborn as sns\n",
    "\n",
    "process = psutil.Process(os.getpid())"
   ]
  },
  {
   "cell_type": "markdown",
   "id": "782bf9a4",
   "metadata": {},
   "source": [
    "### Atributes - short explanation\n",
    "The default name indicating the case ID is case:concept:name\n",
    "concept:name is the event\n",
    "time:timestamp is the corresponding timestamp\n",
    "\n",
    "Load the datasets, sort them on case and consequently timestamp, then reset the index:"
   ]
  },
  {
   "cell_type": "code",
   "execution_count": 2,
   "id": "47d9d7f2",
   "metadata": {},
   "outputs": [],
   "source": [
    "df_train = pd.read_csv('bpi2017_train.csv', parse_dates = ['time:timestamp'])\n",
    "df_test = pd.read_csv('bpi2017_test.csv', parse_dates = ['time:timestamp'])\n",
    "df_val = pd.read_csv('bpi2017_val.csv', parse_dates = ['time:timestamp'])"
   ]
  },
  {
   "cell_type": "code",
   "execution_count": 3,
   "id": "72ba3cbe",
   "metadata": {},
   "outputs": [],
   "source": [
    "df_train = df_train.sort_values(by = ['case:concept:name', 'time:timestamp']).reset_index()\n",
    "df_val = df_val.sort_values(by = ['case:concept:name', 'time:timestamp']).reset_index()\n",
    "df_test = df_test.sort_values(by = ['case:concept:name', 'time:timestamp']).reset_index()\n",
    "\n",
    "# Remove obsolete columns\n",
    "df_train = df_train.drop(['index', 'Unnamed: 0'], axis = 1)\n",
    "df_val = df_val.drop(['index', 'Unnamed: 0'], axis = 1)\n",
    "df_test = df_test.drop(['index', 'Unnamed: 0'], axis = 1)"
   ]
  },
  {
   "cell_type": "markdown",
   "id": "9ee7eeaa",
   "metadata": {},
   "source": [
    "## calculate time difference\n",
    "procedure same as in Baseline algorithm B"
   ]
  },
  {
   "cell_type": "code",
   "execution_count": 4,
   "id": "9f612807",
   "metadata": {},
   "outputs": [],
   "source": [
    "# Cumulative sum function to be used later\n",
    "def CumSum(lists):\n",
    "    # Returns the cumulative sum of a list\n",
    "    length = len(lists)\n",
    "    cu_list = [sum(lists[0: x: 1]) for x in range(0, length + 1)]\n",
    "    return cu_list[1: ]   \n",
    "def time_difference(df):\n",
    "    # Calculate time difference between each row\n",
    "    df['time_diff'] = df['time:timestamp'].diff().dt.total_seconds()\n",
    "    # Set the time difference of the 1st row to 0 as it's currently NaN\n",
    "    df.at[0, 'time_diff'] = 0\n",
    "    # Count number of steps per process\n",
    "    length_per_case_List = df.groupby(['case:concept:name'])['time_diff'].count().tolist()\n",
    "\n",
    "    # Using the cumulative sum we get all the positions that are a first step in a process\n",
    "    # And then the time difference can be set to 0\n",
    "    position_lst = CumSum(length_per_case_List)\n",
    "    for i in tqdm(position_lst):\n",
    "        df.at[i, 'time_diff'] = 0\n",
    "    # For Loop mysteriously creates an empty row at the end of the df, gotta delete it\n",
    "    df = df.iloc[: -1]\n",
    "\n",
    "    # Unzip the position list to get the number of each steps of each process, make that into a list\n",
    "    step_in_process = []\n",
    "    for x in tqdm(length_per_case_List):\n",
    "        for y in range(x):\n",
    "            step_in_process.append(y + 1)\n",
    "    # Assign position number to each row/process\n",
    "    df['position'] = step_in_process\n",
    "    return df"
   ]
  },
  {
   "cell_type": "code",
   "execution_count": 5,
   "id": "6770e438",
   "metadata": {},
   "outputs": [
    {
     "name": "stderr",
     "output_type": "stream",
     "text": [
      "100%|██████████████████████████████████| 16308/16308 [00:00<00:00, 49305.24it/s]\n",
      "100%|█████████████████████████████████| 16308/16308 [00:00<00:00, 383635.69it/s]\n",
      "/var/folders/lh/s2l49w850tq2lvbfyqst82j00000gn/T/ipykernel_44404/3219029282.py:29: SettingWithCopyWarning: \n",
      "A value is trying to be set on a copy of a slice from a DataFrame.\n",
      "Try using .loc[row_indexer,col_indexer] = value instead\n",
      "\n",
      "See the caveats in the documentation: https://pandas.pydata.org/pandas-docs/stable/user_guide/indexing.html#returning-a-view-versus-a-copy\n",
      "  df['position'] = step_in_process\n",
      "100%|████████████████████████████████████| 4078/4078 [00:00<00:00, 60678.98it/s]\n",
      "100%|███████████████████████████████████| 4078/4078 [00:00<00:00, 279762.05it/s]\n",
      "100%|██████████████████████████████████████| 751/751 [00:00<00:00, 18084.19it/s]\n",
      "100%|█████████████████████████████████████| 751/751 [00:00<00:00, 143517.51it/s]\n"
     ]
    }
   ],
   "source": [
    "# Apply the above changes to all dataframes\n",
    "# The warnings are obsolete, it's because it uses .at which is considerably faster than .loc\n",
    "df_train = time_difference(df_train)\n",
    "df_val = time_difference(df_val)\n",
    "df_test = time_difference(df_test)"
   ]
  },
  {
   "cell_type": "code",
   "execution_count": 9,
   "id": "f4b3d5b3",
   "metadata": {},
   "outputs": [],
   "source": [
    "# one hot encoding\n",
    "df_train_f = pd.get_dummies(df_train, columns = ['concept:name'])\n",
    "df_test_f = pd.get_dummies(df_test, columns = ['concept:name'])"
   ]
  },
  {
   "cell_type": "code",
   "execution_count": 12,
   "id": "affe706a",
   "metadata": {},
   "outputs": [],
   "source": [
    "# factorization of categorical atrtibutes (of interest) of the training data\n",
    "# should be replaced with some \"smarter\" feature transformation\n",
    "vals, code_Action = pd.factorize(df_train_f['Action'])\n",
    "df_train_f['Action'] = vals\n",
    "\n",
    "vals, code_Origin = pd.factorize(df_train_f['EventOrigin'])\n",
    "df_train_f['EventOrigin'] = vals\n",
    "\n",
    "vals, code_lifecycle_transition = pd.factorize(df_train_f['lifecycle:transition'])\n",
    "df_train_f['lifecycle:transition'] = vals\n",
    "\n",
    "vals, code_loan_goal = pd.factorize(df_train_f['case:LoanGoal'])\n",
    "df_train_f['case:LoanGoal'] = vals\n",
    "\n",
    "vals, code_appl_type = pd.factorize(df_train_f['case:ApplicationType'])\n",
    "df_train_f['case:ApplicationType'] = vals\n",
    "\n",
    "# vals, code_concept_name = pd.factorize(df_train_f['concept:name'])\n",
    "# df_train_f['concept:name'] = vals\n",
    "\n",
    "# and for test data\n",
    "vals, code_Action = pd.factorize(df_test_f['Action'])\n",
    "df_test_f['Action'] = vals\n",
    "\n",
    "vals, code_Origin = pd.factorize(df_test_f['EventOrigin'])\n",
    "df_test_f['EventOrigin'] = vals\n",
    "\n",
    "vals, code_lifecycle_transition = pd.factorize(df_test_f['lifecycle:transition'])\n",
    "df_test_f['lifecycle:transition'] = vals\n",
    "\n",
    "vals, code_loan_goal = pd.factorize(df_test_f['case:LoanGoal'])\n",
    "df_test_f['case:LoanGoal'] = vals\n",
    "\n",
    "vals, code_appl_type = pd.factorize(df_test_f['case:ApplicationType'])\n",
    "df_test_f['case:ApplicationType'] = vals\n",
    "\n",
    "# vals, code_concept_name = pd.factorize(df_test_f['concept:name'])\n",
    "# df_test_f['concept:name'] = vals\n",
    "\n",
    "# to see the \"code\" - so which number corresponds to which class - print the code_... for the attribute of interest"
   ]
  },
  {
   "cell_type": "code",
   "execution_count": 14,
   "id": "d79902bf",
   "metadata": {},
   "outputs": [
    {
     "data": {
      "text/plain": [
       "Index(['Action', 'org:resource', 'EventOrigin', 'EventID',\n",
       "       'lifecycle:transition', 'time:timestamp', 'case:LoanGoal',\n",
       "       'case:ApplicationType', 'case:concept:name', 'case:RequestedAmount',\n",
       "       'FirstWithdrawalAmount', 'NumberOfTerms', 'Accepted', 'MonthlyCost',\n",
       "       'Selected', 'CreditScore', 'OfferedAmount', 'OfferID', 'time_diff',\n",
       "       'position', 'concept:name_A_Accepted', 'concept:name_A_Cancelled',\n",
       "       'concept:name_A_Complete', 'concept:name_A_Concept',\n",
       "       'concept:name_A_Create Application', 'concept:name_A_Denied',\n",
       "       'concept:name_A_Incomplete', 'concept:name_A_Pending',\n",
       "       'concept:name_A_Submitted', 'concept:name_A_Validating',\n",
       "       'concept:name_O_Accepted', 'concept:name_O_Cancelled',\n",
       "       'concept:name_O_Create Offer', 'concept:name_O_Created',\n",
       "       'concept:name_O_Refused', 'concept:name_O_Returned',\n",
       "       'concept:name_O_Sent (mail and online)',\n",
       "       'concept:name_O_Sent (online only)',\n",
       "       'concept:name_W_Assess potential fraud',\n",
       "       'concept:name_W_Call after offers',\n",
       "       'concept:name_W_Call incomplete files',\n",
       "       'concept:name_W_Complete application', 'concept:name_W_Handle leads',\n",
       "       'concept:name_W_Validate application'],\n",
       "      dtype='object')"
      ]
     },
     "execution_count": 14,
     "metadata": {},
     "output_type": "execute_result"
    }
   ],
   "source": [
    "df_test_f.columns"
   ]
  },
  {
   "cell_type": "code",
   "execution_count": 17,
   "id": "9e32c2db",
   "metadata": {},
   "outputs": [],
   "source": [
    "# select the features that will be used for prediction\n",
    "features = ['Action', 'EventOrigin', 'lifecycle:transition', 'case:LoanGoal',\n",
    "            'case:ApplicationType', 'case:RequestedAmount', 'position', \n",
    "            'concept:name_A_Accepted', 'concept:name_A_Cancelled',\n",
    "            'concept:name_A_Complete', 'concept:name_A_Concept',\n",
    "            'concept:name_A_Create Application', 'concept:name_A_Denied',\n",
    "            'concept:name_A_Incomplete', 'concept:name_A_Pending',\n",
    "            'concept:name_A_Submitted', 'concept:name_A_Validating',\n",
    "            'concept:name_O_Accepted', 'concept:name_O_Cancelled',\n",
    "            'concept:name_O_Create Offer', 'concept:name_O_Created',\n",
    "            'concept:name_O_Refused', 'concept:name_O_Returned',\n",
    "            'concept:name_O_Sent (mail and online)',\n",
    "            'concept:name_O_Sent (online only)',\n",
    "            'concept:name_W_Assess potential fraud',\n",
    "            'concept:name_W_Call after offers',\n",
    "            'concept:name_W_Call incomplete files',\n",
    "            'concept:name_W_Complete application', 'concept:name_W_Handle leads',\n",
    "            'concept:name_W_Validate application']"
   ]
  },
  {
   "cell_type": "markdown",
   "id": "cedb6d54",
   "metadata": {},
   "source": [
    "## Define predictors and outcome variables for train and test sets"
   ]
  },
  {
   "cell_type": "code",
   "execution_count": 18,
   "id": "5cf569ce",
   "metadata": {},
   "outputs": [],
   "source": [
    "# split the predictors and the outcome variable\n",
    "X_train = df_train_f[features]\n",
    "y_train = df_train_f['time_diff']\n",
    "X_test = df_test_f[features]\n",
    "y_test = df_test_f['time_diff']"
   ]
  },
  {
   "cell_type": "markdown",
   "id": "08aff352",
   "metadata": {},
   "source": [
    "## Initialize and fit the model (on a slice - to have a reasonable running time)"
   ]
  },
  {
   "cell_type": "code",
   "execution_count": 23,
   "id": "c01e35e6",
   "metadata": {},
   "outputs": [
    {
     "name": "stdout",
     "output_type": "stream",
     "text": [
      "[LibSVM].....................................................................\n",
      "Warning: using -h 0 may be faster\n",
      "*.\n",
      "Warning: using -h 0 may be faster\n",
      "*.....\n",
      "Warning: using -h 0 may be faster\n",
      "*.*\n",
      "optimization finished, #iter = 75592\n",
      "obj = -4766777393.030747, rho = -146.113545\n",
      "nSV = 99187, nBSV = 99019\n"
     ]
    },
    {
     "data": {
      "text/plain": [
       "Pipeline(steps=[('standardscaler', StandardScaler()),\n",
       "                ('svr', SVR(epsilon=0.01, verbose=True))])"
      ]
     },
     "execution_count": 23,
     "metadata": {},
     "output_type": "execute_result"
    }
   ],
   "source": [
    "regr = make_pipeline(StandardScaler(), SVR(C=1.0, epsilon=0.01, degree=3, verbose=True))\n",
    "regr.fit(X_train[:100000], y_train[:100000])"
   ]
  },
  {
   "cell_type": "code",
   "execution_count": 27,
   "id": "5a0fd8be",
   "metadata": {},
   "outputs": [
    {
     "data": {
      "text/plain": [
       "-0.042084374702000105"
      ]
     },
     "execution_count": 27,
     "metadata": {},
     "output_type": "execute_result"
    }
   ],
   "source": [
    "regr.score(X_test[:5000], y_test[:5000])"
   ]
  },
  {
   "cell_type": "markdown",
   "id": "eb3d8c68",
   "metadata": {},
   "source": [
    "## Make predictions for a slice of test"
   ]
  },
  {
   "cell_type": "code",
   "execution_count": 30,
   "id": "a90f1038",
   "metadata": {},
   "outputs": [],
   "source": [
    "predictions = regr.predict(X_test[:200])"
   ]
  },
  {
   "cell_type": "code",
   "execution_count": 95,
   "id": "34499a2b",
   "metadata": {},
   "outputs": [
    {
     "data": {
      "text/plain": [
       "119313458679.7947"
      ]
     },
     "execution_count": 95,
     "metadata": {},
     "output_type": "execute_result"
    }
   ],
   "source": [
    "# compare the predictions with actual data and check accuracy (proportion of correct predictions)\n",
    "compare_predictions = pd.DataFrame()\n",
    "compare_predictions['true'] = y_test[:200]\n",
    "compare_predictions['predicted'] = predictions\n",
    "compare_predictions['position'] = X_test['position'][:200]\n",
    "compare_predictions['diff'] = compare_predictions['true'] - compare_predictions['predicted']\n",
    "mse = sum((compare_predictions['true']-compare_predictions['predicted'])**2)/200\n",
    "mse\n",
    "# compare_predictions[31:60]"
   ]
  },
  {
   "cell_type": "markdown",
   "id": "cb47c174",
   "metadata": {},
   "source": [
    "### make visualizations of the predictions for the first two cases to see where things go wrong"
   ]
  },
  {
   "cell_type": "code",
   "execution_count": 82,
   "id": "2bd5884c",
   "metadata": {},
   "outputs": [
    {
     "data": {
      "text/html": [
       "<div>\n",
       "<style scoped>\n",
       "    .dataframe tbody tr th:only-of-type {\n",
       "        vertical-align: middle;\n",
       "    }\n",
       "\n",
       "    .dataframe tbody tr th {\n",
       "        vertical-align: top;\n",
       "    }\n",
       "\n",
       "    .dataframe thead th {\n",
       "        text-align: right;\n",
       "    }\n",
       "</style>\n",
       "<table border=\"1\" class=\"dataframe\">\n",
       "  <thead>\n",
       "    <tr style=\"text-align: right;\">\n",
       "      <th></th>\n",
       "      <th>position</th>\n",
       "      <th>true/predicted</th>\n",
       "      <th>time</th>\n",
       "    </tr>\n",
       "  </thead>\n",
       "  <tbody>\n",
       "    <tr>\n",
       "      <th>0</th>\n",
       "      <td>1</td>\n",
       "      <td>true</td>\n",
       "      <td>0.000000</td>\n",
       "    </tr>\n",
       "    <tr>\n",
       "      <th>1</th>\n",
       "      <td>1</td>\n",
       "      <td>predicted</td>\n",
       "      <td>0.657409</td>\n",
       "    </tr>\n",
       "    <tr>\n",
       "      <th>2</th>\n",
       "      <td>2</td>\n",
       "      <td>true</td>\n",
       "      <td>1.086000</td>\n",
       "    </tr>\n",
       "    <tr>\n",
       "      <th>3</th>\n",
       "      <td>2</td>\n",
       "      <td>predicted</td>\n",
       "      <td>2.102987</td>\n",
       "    </tr>\n",
       "    <tr>\n",
       "      <th>4</th>\n",
       "      <td>3</td>\n",
       "      <td>true</td>\n",
       "      <td>0.279000</td>\n",
       "    </tr>\n",
       "    <tr>\n",
       "      <th>...</th>\n",
       "      <td>...</td>\n",
       "      <td>...</td>\n",
       "      <td>...</td>\n",
       "    </tr>\n",
       "    <tr>\n",
       "      <th>57</th>\n",
       "      <td>29</td>\n",
       "      <td>predicted</td>\n",
       "      <td>2.379414</td>\n",
       "    </tr>\n",
       "    <tr>\n",
       "      <th>58</th>\n",
       "      <td>30</td>\n",
       "      <td>true</td>\n",
       "      <td>0.007000</td>\n",
       "    </tr>\n",
       "    <tr>\n",
       "      <th>59</th>\n",
       "      <td>30</td>\n",
       "      <td>predicted</td>\n",
       "      <td>2.184848</td>\n",
       "    </tr>\n",
       "    <tr>\n",
       "      <th>60</th>\n",
       "      <td>31</td>\n",
       "      <td>true</td>\n",
       "      <td>0.017000</td>\n",
       "    </tr>\n",
       "    <tr>\n",
       "      <th>61</th>\n",
       "      <td>31</td>\n",
       "      <td>predicted</td>\n",
       "      <td>-34.277964</td>\n",
       "    </tr>\n",
       "  </tbody>\n",
       "</table>\n",
       "<p>62 rows × 3 columns</p>\n",
       "</div>"
      ],
      "text/plain": [
       "    position true/predicted       time\n",
       "0          1           true   0.000000\n",
       "1          1      predicted   0.657409\n",
       "2          2           true   1.086000\n",
       "3          2      predicted   2.102987\n",
       "4          3           true   0.279000\n",
       "..       ...            ...        ...\n",
       "57        29      predicted   2.379414\n",
       "58        30           true   0.007000\n",
       "59        30      predicted   2.184848\n",
       "60        31           true   0.017000\n",
       "61        31      predicted -34.277964\n",
       "\n",
       "[62 rows x 3 columns]"
      ]
     },
     "execution_count": 82,
     "metadata": {},
     "output_type": "execute_result"
    }
   ],
   "source": [
    "plot_case1 = compare_predictions[:31].set_index('position')\n",
    "plot_case1 = plot_case1[['true', 'predicted']].stack().to_frame()\n",
    "plot_case1 = plot_case1.rename(columns={0: 'time'}).reset_index()\n",
    "plot_case1 = plot_case1.rename(columns={'level_1': 'true/predicted'})\n",
    "plot_case1"
   ]
  },
  {
   "cell_type": "code",
   "execution_count": 93,
   "id": "8f5a7083",
   "metadata": {},
   "outputs": [
    {
     "data": {
      "image/png": "[encoded data removed]",
      "text/plain": [
       "<Figure size 720x360 with 1 Axes>"
      ]
     },
     "metadata": {},
     "output_type": "display_data"
    }
   ],
   "source": [
    "# figure size\n",
    "sns.set(rc={'figure.figsize':(10,5)})\n",
    "# color (palette) - general settings for the poster\n",
    "colors = [\"#494f56\", \"#d8dfdf\"]\n",
    "\n",
    "# Set your custom color palette\n",
    "sns.set_palette(sns.color_palette(colors))\n",
    "sns.set(rc={'axes.facecolor':'#ffffff', 'figure.facecolor':'#d8dfdf', \n",
    "            \"grid.color\":'#d8dfdf'})\n",
    "\n",
    "ax = sns.scatterplot(data = plot_case1, x='position', y='time', hue='true/predicted', alpha=0.6);\n",
    "ax.set_xlabel('Position')\n",
    "ax.set_ylabel('Time')\n",
    "ax.set_title('Predicted vs true time - case 1', size = 20);\n",
    "# ax.set_ylim(-10, 1000);"
   ]
  },
  {
   "cell_type": "code",
   "execution_count": 94,
   "id": "505bf94a",
   "metadata": {},
   "outputs": [
    {
     "data": {
      "image/png": "[encoded data removed]",
      "text/plain": [
       "<Figure size 720x360 with 1 Axes>"
      ]
     },
     "metadata": {},
     "output_type": "display_data"
    }
   ],
   "source": [
    "plot_case2 = compare_predictions[31:60].set_index('position')\n",
    "plot_case2 = plot_case2[['true', 'predicted']].stack().to_frame()\n",
    "plot_case2 = plot_case2.rename(columns={0: 'time'}).reset_index()\n",
    "plot_case2 = plot_case2.rename(columns={'level_1': 'true/predicted'})\n",
    "\n",
    "ax = sns.scatterplot(data = plot_case2, x='position', y='time', hue='true/predicted', alpha=0.7)\n",
    "ax.set_xlabel('Position')\n",
    "ax.set_ylabel('Time')\n",
    "ax.set_title('Predicted vs true time - case 2', size = 20);\n",
    "# ax.set_ylim(-10, 1000);"
   ]
  },
  {
   "cell_type": "code",
   "execution_count": null,
   "id": "bde6b0c0",
   "metadata": {},
   "outputs": [],
   "source": [
    "print(\"Average memory usage: \" +\n",
    "      str((process.memory_info().rss) >> 20) + \"MB\")\n",
    "print(\"CPU Time: \" + str(process.cpu_times().user + process.cpu_times().system) + \"s\")"
   ]
  }
 ],
 "metadata": {
  "kernelspec": {
   "display_name": "Python 3 (ipykernel)",
   "language": "python",
   "name": "python3"
  },
  "language_info": {
   "codemirror_mode": {
    "name": "ipython",
    "version": 3
   },
   "file_extension": ".py",
   "mimetype": "text/x-python",
   "name": "python",
   "nbconvert_exporter": "python",
   "pygments_lexer": "ipython3",
   "version": "3.9.7"
  }
 },
 "nbformat": 4,
 "nbformat_minor": 5
}
