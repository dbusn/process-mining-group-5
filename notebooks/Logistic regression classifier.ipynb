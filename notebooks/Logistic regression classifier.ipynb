{
 "cells": [
  {
   "cell_type": "markdown",
   "id": "990122f6",
   "metadata": {},
   "source": [
    "# Logistic regression classifier"
   ]
  },
  {
   "cell_type": "markdown",
   "id": "0a20d0a2",
   "metadata": {},
   "source": [
    "## imports, factorization of features, dataset preparation"
   ]
  },
  {
   "cell_type": "code",
   "execution_count": 1,
   "id": "cd411192",
   "metadata": {},
   "outputs": [],
   "source": [
    "import pandas as pd \n",
    "import numpy as np\n",
    "%matplotlib inline \n",
    "import matplotlib.pyplot as plt\n",
    "from tqdm import tqdm\n",
    "\n",
    "def sigmoid(z): \n",
    "    return 1 / (1 + np.exp(-z))\n",
    "\n",
    "def softmax(zs):\n",
    "    return np.exp(zs) / sum(np.exp(zs))"
   ]
  },
  {
   "cell_type": "code",
   "execution_count": 2,
   "id": "674e8c96",
   "metadata": {},
   "outputs": [],
   "source": [
    "# Read the split dataset\n",
    "# Available on github/data/splits\n",
    "df_train = pd.read_csv('bpi2017_train.csv')\n",
    "df_test = pd.read_csv('bpi2017_test.csv')\n",
    "df_val = pd.read_csv('bpi2017_val.csv')"
   ]
  },
  {
   "cell_type": "code",
   "execution_count": 3,
   "id": "6c7a0aab",
   "metadata": {},
   "outputs": [
    {
     "data": {
      "text/html": [
       "<div>\n",
       "<style scoped>\n",
       "    .dataframe tbody tr th:only-of-type {\n",
       "        vertical-align: middle;\n",
       "    }\n",
       "\n",
       "    .dataframe tbody tr th {\n",
       "        vertical-align: top;\n",
       "    }\n",
       "\n",
       "    .dataframe thead th {\n",
       "        text-align: right;\n",
       "    }\n",
       "</style>\n",
       "<table border=\"1\" class=\"dataframe\">\n",
       "  <thead>\n",
       "    <tr style=\"text-align: right;\">\n",
       "      <th></th>\n",
       "      <th>Unnamed: 0</th>\n",
       "      <th>Action</th>\n",
       "      <th>org:resource</th>\n",
       "      <th>concept:name</th>\n",
       "      <th>EventOrigin</th>\n",
       "      <th>EventID</th>\n",
       "      <th>lifecycle:transition</th>\n",
       "      <th>time:timestamp</th>\n",
       "      <th>case:LoanGoal</th>\n",
       "      <th>case:ApplicationType</th>\n",
       "      <th>case:concept:name</th>\n",
       "      <th>case:RequestedAmount</th>\n",
       "      <th>FirstWithdrawalAmount</th>\n",
       "      <th>NumberOfTerms</th>\n",
       "      <th>Accepted</th>\n",
       "      <th>MonthlyCost</th>\n",
       "      <th>Selected</th>\n",
       "      <th>CreditScore</th>\n",
       "      <th>OfferedAmount</th>\n",
       "      <th>OfferID</th>\n",
       "    </tr>\n",
       "  </thead>\n",
       "  <tbody>\n",
       "    <tr>\n",
       "      <th>0</th>\n",
       "      <td>0</td>\n",
       "      <td>Created</td>\n",
       "      <td>User_1</td>\n",
       "      <td>A_Create Application</td>\n",
       "      <td>Application</td>\n",
       "      <td>Application_1691306052</td>\n",
       "      <td>complete</td>\n",
       "      <td>2016-01-01 10:16:11.500000+00:00</td>\n",
       "      <td>Home improvement</td>\n",
       "      <td>New credit</td>\n",
       "      <td>Application_1691306052</td>\n",
       "      <td>10000.0</td>\n",
       "      <td>NaN</td>\n",
       "      <td>NaN</td>\n",
       "      <td>NaN</td>\n",
       "      <td>NaN</td>\n",
       "      <td>NaN</td>\n",
       "      <td>NaN</td>\n",
       "      <td>NaN</td>\n",
       "      <td>NaN</td>\n",
       "    </tr>\n",
       "    <tr>\n",
       "      <th>1</th>\n",
       "      <td>1</td>\n",
       "      <td>statechange</td>\n",
       "      <td>User_1</td>\n",
       "      <td>A_Submitted</td>\n",
       "      <td>Application</td>\n",
       "      <td>ApplState_284636842</td>\n",
       "      <td>complete</td>\n",
       "      <td>2016-01-01 10:16:11.549000+00:00</td>\n",
       "      <td>Home improvement</td>\n",
       "      <td>New credit</td>\n",
       "      <td>Application_1691306052</td>\n",
       "      <td>10000.0</td>\n",
       "      <td>NaN</td>\n",
       "      <td>NaN</td>\n",
       "      <td>NaN</td>\n",
       "      <td>NaN</td>\n",
       "      <td>NaN</td>\n",
       "      <td>NaN</td>\n",
       "      <td>NaN</td>\n",
       "      <td>NaN</td>\n",
       "    </tr>\n",
       "    <tr>\n",
       "      <th>2</th>\n",
       "      <td>2</td>\n",
       "      <td>Created</td>\n",
       "      <td>User_1</td>\n",
       "      <td>W_Handle leads</td>\n",
       "      <td>Workflow</td>\n",
       "      <td>Workitem_831373279</td>\n",
       "      <td>schedule</td>\n",
       "      <td>2016-01-01 10:16:11.740000+00:00</td>\n",
       "      <td>Home improvement</td>\n",
       "      <td>New credit</td>\n",
       "      <td>Application_1691306052</td>\n",
       "      <td>10000.0</td>\n",
       "      <td>NaN</td>\n",
       "      <td>NaN</td>\n",
       "      <td>NaN</td>\n",
       "      <td>NaN</td>\n",
       "      <td>NaN</td>\n",
       "      <td>NaN</td>\n",
       "      <td>NaN</td>\n",
       "      <td>NaN</td>\n",
       "    </tr>\n",
       "    <tr>\n",
       "      <th>3</th>\n",
       "      <td>3</td>\n",
       "      <td>Deleted</td>\n",
       "      <td>User_1</td>\n",
       "      <td>W_Handle leads</td>\n",
       "      <td>Workflow</td>\n",
       "      <td>Workitem_1299098074</td>\n",
       "      <td>withdraw</td>\n",
       "      <td>2016-01-01 10:17:31.573000+00:00</td>\n",
       "      <td>Home improvement</td>\n",
       "      <td>New credit</td>\n",
       "      <td>Application_1691306052</td>\n",
       "      <td>10000.0</td>\n",
       "      <td>NaN</td>\n",
       "      <td>NaN</td>\n",
       "      <td>NaN</td>\n",
       "      <td>NaN</td>\n",
       "      <td>NaN</td>\n",
       "      <td>NaN</td>\n",
       "      <td>NaN</td>\n",
       "      <td>NaN</td>\n",
       "    </tr>\n",
       "    <tr>\n",
       "      <th>4</th>\n",
       "      <td>4</td>\n",
       "      <td>Created</td>\n",
       "      <td>User_1</td>\n",
       "      <td>W_Complete application</td>\n",
       "      <td>Workflow</td>\n",
       "      <td>Workitem_1703931302</td>\n",
       "      <td>schedule</td>\n",
       "      <td>2016-01-01 10:17:31.584000+00:00</td>\n",
       "      <td>Home improvement</td>\n",
       "      <td>New credit</td>\n",
       "      <td>Application_1691306052</td>\n",
       "      <td>10000.0</td>\n",
       "      <td>NaN</td>\n",
       "      <td>NaN</td>\n",
       "      <td>NaN</td>\n",
       "      <td>NaN</td>\n",
       "      <td>NaN</td>\n",
       "      <td>NaN</td>\n",
       "      <td>NaN</td>\n",
       "      <td>NaN</td>\n",
       "    </tr>\n",
       "  </tbody>\n",
       "</table>\n",
       "</div>"
      ],
      "text/plain": [
       "   Unnamed: 0       Action org:resource            concept:name  EventOrigin  \\\n",
       "0           0      Created       User_1    A_Create Application  Application   \n",
       "1           1  statechange       User_1             A_Submitted  Application   \n",
       "2           2      Created       User_1          W_Handle leads     Workflow   \n",
       "3           3      Deleted       User_1          W_Handle leads     Workflow   \n",
       "4           4      Created       User_1  W_Complete application     Workflow   \n",
       "\n",
       "                  EventID lifecycle:transition  \\\n",
       "0  Application_1691306052             complete   \n",
       "1     ApplState_284636842             complete   \n",
       "2      Workitem_831373279             schedule   \n",
       "3     Workitem_1299098074             withdraw   \n",
       "4     Workitem_1703931302             schedule   \n",
       "\n",
       "                     time:timestamp     case:LoanGoal case:ApplicationType  \\\n",
       "0  2016-01-01 10:16:11.500000+00:00  Home improvement           New credit   \n",
       "1  2016-01-01 10:16:11.549000+00:00  Home improvement           New credit   \n",
       "2  2016-01-01 10:16:11.740000+00:00  Home improvement           New credit   \n",
       "3  2016-01-01 10:17:31.573000+00:00  Home improvement           New credit   \n",
       "4  2016-01-01 10:17:31.584000+00:00  Home improvement           New credit   \n",
       "\n",
       "        case:concept:name  case:RequestedAmount  FirstWithdrawalAmount  \\\n",
       "0  Application_1691306052               10000.0                    NaN   \n",
       "1  Application_1691306052               10000.0                    NaN   \n",
       "2  Application_1691306052               10000.0                    NaN   \n",
       "3  Application_1691306052               10000.0                    NaN   \n",
       "4  Application_1691306052               10000.0                    NaN   \n",
       "\n",
       "   NumberOfTerms Accepted  MonthlyCost Selected  CreditScore  OfferedAmount  \\\n",
       "0            NaN      NaN          NaN      NaN          NaN            NaN   \n",
       "1            NaN      NaN          NaN      NaN          NaN            NaN   \n",
       "2            NaN      NaN          NaN      NaN          NaN            NaN   \n",
       "3            NaN      NaN          NaN      NaN          NaN            NaN   \n",
       "4            NaN      NaN          NaN      NaN          NaN            NaN   \n",
       "\n",
       "  OfferID  \n",
       "0     NaN  \n",
       "1     NaN  \n",
       "2     NaN  \n",
       "3     NaN  \n",
       "4     NaN  "
      ]
     },
     "execution_count": 3,
     "metadata": {},
     "output_type": "execute_result"
    }
   ],
   "source": [
    "df_train.head()"
   ]
  },
  {
   "cell_type": "code",
   "execution_count": 4,
   "id": "e7ea9b07",
   "metadata": {},
   "outputs": [],
   "source": [
    "# factorization of categorical atrtibutes (of interest) of the training data\n",
    "df_train_f = df_train.copy()\n",
    "vals, code_Action = pd.factorize(df_train_f['Action'])\n",
    "df_train_f['Action'] = vals\n",
    "\n",
    "vals, code_Origin = pd.factorize(df_train_f['EventOrigin'])\n",
    "df_train_f['EventOrigin'] = vals\n",
    "\n",
    "vals, code_lifecycle_transition = pd.factorize(df_train_f['lifecycle:transition'])\n",
    "df_train_f['lifecycle:transition'] = vals\n",
    "\n",
    "vals, code_loan_goal = pd.factorize(df_train_f['case:LoanGoal'])\n",
    "df_train_f['case:LoanGoal'] = vals\n",
    "\n",
    "vals, code_appl_type = pd.factorize(df_train_f['case:ApplicationType'])\n",
    "df_train_f['case:ApplicationType'] = vals\n",
    "\n",
    "# vals, code_concept_name = pd.factorize(df_train_f['concept:name'])\n",
    "# df_train_f['concept:name'] = vals\n",
    "\n",
    "# and for test data\n",
    "df_test_f = df_test.copy()\n",
    "vals, code_Action = pd.factorize(df_test_f['Action'])\n",
    "df_test_f['Action'] = vals\n",
    "\n",
    "vals, code_Origin = pd.factorize(df_test_f['EventOrigin'])\n",
    "df_test_f['EventOrigin'] = vals\n",
    "\n",
    "vals, code_lifecycle_transition = pd.factorize(df_test_f['lifecycle:transition'])\n",
    "df_test_f['lifecycle:transition'] = vals\n",
    "\n",
    "vals, code_loan_goal = pd.factorize(df_test_f['case:LoanGoal'])\n",
    "df_test_f['case:LoanGoal'] = vals\n",
    "\n",
    "vals, code_appl_type = pd.factorize(df_test_f['case:ApplicationType'])\n",
    "df_test_f['case:ApplicationType'] = vals\n",
    "\n",
    "vals, code_concept_name = pd.factorize(df_test_f['concept:name'])\n",
    "# df_test_f['concept:name'] = vals\n",
    "\n",
    "# to see the \"code\" - so which number corresponds to which class - print the code_... for the attribute of interest"
   ]
  },
  {
   "cell_type": "code",
   "execution_count": 5,
   "id": "9e32c2db",
   "metadata": {},
   "outputs": [],
   "source": [
    "# select the features that will be used for prediction\n",
    "features = ['Action', 'EventOrigin', 'lifecycle:transition', 'case:LoanGoal', 'case:ApplicationType', 'case:RequestedAmount']"
   ]
  },
  {
   "cell_type": "code",
   "execution_count": 6,
   "id": "5cf569ce",
   "metadata": {},
   "outputs": [],
   "source": [
    "# split the predictors and the outcome variable\n",
    "X_train = df_train_f[features]\n",
    "y_train = df_train_f['concept:name']\n",
    "X_test = df_test_f[features]\n",
    "y_test = df_test_f['concept:name']"
   ]
  },
  {
   "cell_type": "code",
   "execution_count": 7,
   "id": "6029a7e4",
   "metadata": {},
   "outputs": [
    {
     "name": "stderr",
     "output_type": "stream",
     "text": [
      "/Users/hannabroszczak/opt/anaconda3/lib/python3.9/site-packages/sklearn/linear_model/_logistic.py:763: ConvergenceWarning: lbfgs failed to converge (status=1):\n",
      "STOP: TOTAL NO. of ITERATIONS REACHED LIMIT.\n",
      "\n",
      "Increase the number of iterations (max_iter) or scale the data as shown in:\n",
      "    https://scikit-learn.org/stable/modules/preprocessing.html\n",
      "Please also refer to the documentation for alternative solver options:\n",
      "    https://scikit-learn.org/stable/modules/linear_model.html#logistic-regression\n",
      "  n_iter_i = _check_optimize_result(\n"
     ]
    }
   ],
   "source": [
    "from sklearn.preprocessing import StandardScaler\n",
    "from sklearn.linear_model import LogisticRegression\n",
    "\n",
    "# initialize and use the scaler\n",
    "standardizer = StandardScaler()\n",
    "X_train_st = standardizer.fit_transform(X_train)\n",
    "X_test_st = standardizer.transform(X_test)\n",
    "\n",
    "# fit the model\n",
    "lr = LogisticRegression(multi_class='multinomial')\n",
    "lr.fit(X_train_st, y_train);\n",
    "\n",
    "# Obtain decision function for first training unit\n",
    "# lr.decision_function(X_train_st[0])"
   ]
  },
  {
   "cell_type": "code",
   "execution_count": 60,
   "id": "1592913f",
   "metadata": {},
   "outputs": [
    {
     "data": {
      "text/plain": [
       "'A_Concept'"
      ]
     },
     "execution_count": 60,
     "metadata": {},
     "output_type": "execute_result"
    }
   ],
   "source": [
    "# obtain the prediction for the 1st unit:\n",
    "prediction = np.argmax(softmax(lr.decision_function(X_train_st[0].reshape(1,-1))[0]).round(1))\n",
    "code_concept_name[prediction]"
   ]
  },
  {
   "cell_type": "code",
   "execution_count": 82,
   "id": "6805171c",
   "metadata": {},
   "outputs": [
    {
     "data": {
      "text/plain": [
       "24"
      ]
     },
     "execution_count": 82,
     "metadata": {},
     "output_type": "execute_result"
    }
   ],
   "source": [
    "# all_predictions = np.argmax(softmax(lr.decision_function(X_train_st[15].reshape(1,-1))[0]).round(1))\n",
    "prediction = np.argmax(softmax(lr.decision_function(X_train_st[15].reshape(1,-1))[0]).round(1))\n",
    "prediction"
   ]
  },
  {
   "cell_type": "code",
   "execution_count": 84,
   "id": "51119724",
   "metadata": {},
   "outputs": [
    {
     "data": {
      "text/plain": [
       "array([[0.001, 0.001, 0.001, 0.001, 0.99 , 0.001, 0.001, 0.001, 0.001,\n",
       "        0.001, 0.   , 0.   , 0.   , 0.   , 0.   , 0.   , 0.   , 0.   ,\n",
       "        0.   , 0.   , 0.   , 0.   , 0.   , 0.   , 0.   ],\n",
       "       [0.148, 0.052, 0.147, 0.148, 0.001, 0.02 , 0.106, 0.076, 0.124,\n",
       "        0.178, 0.   , 0.   , 0.   , 0.   , 0.   , 0.   , 0.   , 0.   ,\n",
       "        0.   , 0.   , 0.   , 0.   , 0.   , 0.   , 0.   ]])"
      ]
     },
     "execution_count": 84,
     "metadata": {},
     "output_type": "execute_result"
    }
   ],
   "source": [
    "lr.predict_proba(X_train_st[:2]).round(3)"
   ]
  },
  {
   "cell_type": "code",
   "execution_count": 11,
   "id": "da1b11fb",
   "metadata": {},
   "outputs": [
    {
     "data": {
      "text/plain": [
       "0.30840242458022715"
      ]
     },
     "execution_count": 11,
     "metadata": {},
     "output_type": "execute_result"
    }
   ],
   "source": [
    "# evaluate the model (??)\n",
    "lr.score(X_test_st,y_test)"
   ]
  },
  {
   "cell_type": "markdown",
   "id": "1e54f078",
   "metadata": {},
   "source": [
    "## Add the predictions to the initial dataframe"
   ]
  },
  {
   "cell_type": "code",
   "execution_count": 19,
   "id": "8e8ced17",
   "metadata": {},
   "outputs": [],
   "source": [
    "# initialize column for predictions\n",
    "df_train['predicted_event'] = 0"
   ]
  },
  {
   "cell_type": "code",
   "execution_count": 24,
   "id": "8176a3d9",
   "metadata": {},
   "outputs": [],
   "source": [
    "# to \"block\" the printing of warnings:\n",
    "import warnings\n",
    "warnings.filterwarnings(action='ignore')"
   ]
  },
  {
   "cell_type": "code",
   "execution_count": 25,
   "id": "2c4db3d8",
   "metadata": {},
   "outputs": [
    {
     "name": "stderr",
     "output_type": "stream",
     "text": [
      "100%|█████████████████████████████████| 621131/621131 [01:46<00:00, 5822.99it/s]\n"
     ]
    }
   ],
   "source": [
    "# add predictions to the column in df_train\n",
    "for x in tqdm(range(0, len(X_train))):\n",
    "    df_train['predicted_event'].loc[x] = np.argmax(lr.decision_function(X_train_st[x].reshape(1,-1))[0])"
   ]
  },
  {
   "cell_type": "code",
   "execution_count": 39,
   "id": "5a40d599",
   "metadata": {},
   "outputs": [
    {
     "data": {
      "text/plain": [
       "array([ 4,  9, 24, 19, 12, 13, 21, 20,  6])"
      ]
     },
     "execution_count": 39,
     "metadata": {},
     "output_type": "execute_result"
    }
   ],
   "source": [
    "df_train['predicted_event'].unique()"
   ]
  },
  {
   "cell_type": "code",
   "execution_count": 40,
   "id": "bc9e8bd2",
   "metadata": {},
   "outputs": [],
   "source": [
    "# make a dictionary to translate the factors into initial event names\n",
    "keys = [i for i in range(0, len(code_concept_name))]\n",
    "codes = code_concept_name\n",
    "dict_concept_name = {keys[i]: codes[i] for i in range(len(codes))}"
   ]
  },
  {
   "cell_type": "code",
   "execution_count": 41,
   "id": "61615f36",
   "metadata": {},
   "outputs": [],
   "source": [
    "# translate the factors into initial event names\n",
    "df_train['predicted_event_name'] = X_train['predicted_action'].map(dict_concept_name)"
   ]
  },
  {
   "cell_type": "code",
   "execution_count": 47,
   "id": "2bfb10b3",
   "metadata": {},
   "outputs": [
    {
     "data": {
      "text/plain": [
       "0.02534409005507695"
      ]
     },
     "execution_count": 47,
     "metadata": {},
     "output_type": "execute_result"
    }
   ],
   "source": [
    "len(df_train[df_train['concept:name']==df_train['predicted_event_name']])/len(df_train)"
   ]
  },
  {
   "cell_type": "markdown",
   "id": "63eef7d5",
   "metadata": {},
   "source": [
    "### to be investigated further - hyperparam. tuning:\n",
    "\n",
    "multi_class type (e.g. multi_class='ovr')\n",
    "\n",
    "penalty (lasso)"
   ]
  }
 ],
 "metadata": {
  "kernelspec": {
   "display_name": "Python 3 (ipykernel)",
   "language": "python",
   "name": "python3"
  },
  "language_info": {
   "codemirror_mode": {
    "name": "ipython",
    "version": 3
   },
   "file_extension": ".py",
   "mimetype": "text/x-python",
   "name": "python",
   "nbconvert_exporter": "python",
   "pygments_lexer": "ipython3",
   "version": "3.9.7"
  }
 },
 "nbformat": 4,
 "nbformat_minor": 5
}
