{
 "cells": [
  {
   "cell_type": "code",
   "execution_count": null,
   "metadata": {},
   "outputs": [],
   "source": [
    "import numpy as np\n",
    "import pandas as pd\n",
    "import re\n",
    "from tqdm import tqdm\n",
    "import datetime as datetime\n",
    "from sklearn.model_selection import train_test_split"
   ]
  },
  {
   "cell_type": "code",
   "execution_count": null,
   "metadata": {},
   "outputs": [],
   "source": [
    "df_train = pd.read_csv(\"bpi2017_train.csv\", parse_dates = ['time:timestamp'])\n",
    "df_val = pd.read_csv(\"bpi2017_val.csv\", parse_dates = ['time:timestamp'])\n",
    "df_test = pd.read_csv(\"bpi2017_test.csv\", parse_dates = ['time:timestamp'])\n",
    "\n",
    "df.info()\n",
    "# The default name indicating the case ID is case:concept:name\n",
    "# concept:name is the event\n",
    "# time:timestamp is the corresponding timestamp"
   ]
  },
  {
   "cell_type": "markdown",
   "metadata": {},
   "source": [
    "# 2. Baseline Time Prediction (Only on Training Dataset)"
   ]
  },
  {
   "cell_type": "code",
   "execution_count": null,
   "metadata": {},
   "outputs": [],
   "source": [
    "# Calculate time difference\n",
    "df_train['time_diff'] = df_train['time:timestamp'].diff().dt.total_seconds()\n",
    "# Set the time difference of the 1st row 0\n",
    "df_train.loc[0, 'time_diff'] = 0\n",
    "# Count number of processes per trace/ID\n",
    "count_lst = df_train.groupby('case:concept:name').count()['time_diff'].tolist()\n",
    "# Assign position number to each row/process\n",
    "position_lst_1 = [list(range(1, i + 1)) for i in count_lst]\n",
    "position_lst = []\n",
    "for i in position_lst_1:\n",
    "    for j in i:\n",
    "        position_lst.append(j)\n",
    "df_train['position'] = position_lst\n",
    "# Set the time difference of every process with position = 1 as 0\n",
    "df_train.loc[df_train['position'] == 1, 'time_diff'] = 0\n",
    "df_train"
   ]
  },
  {
   "cell_type": "code",
   "execution_count": null,
   "metadata": {},
   "outputs": [],
   "source": [
    "# Calculate mean time difference grouped by position based on the number of cases\n",
    "mean_time_lst = df_train.groupby('position').mean()['time_diff'].tolist()\n",
    "# Delete 1st time difference mean (Position = 1 always has mean = 0)\n",
    "del mean_time_lst[0]\n",
    "# Add the last time differnce mean as 0 when it reaches the maximum value of position\n",
    "mean_time_lst.append(0.0)\n",
    "# Create the predicted time column per entry using the mean time difference\n",
    "pred_time_lst = [mean_time_lst[j - 1] for j in position_lst]\n",
    "df_train['baseline_predicted_time'] = pred_time_lst\n",
    "df_train"
   ]
  },
  {
   "cell_type": "markdown",
   "metadata": {},
   "source": [
    "# 3. Apply Above Calculated Mean Time to Validation and Test Set"
   ]
  },
  {
   "cell_type": "code",
   "execution_count": null,
   "metadata": {},
   "outputs": [],
   "source": [
    "# Calculate time difference\n",
    "df_val['time_diff'] = df_val['time:timestamp'].diff().dt.total_seconds()\n",
    "# Set the time difference of the 1st row 0\n",
    "df_val.loc[0, 'time_diff'] = 0\n",
    "# Count number of processes per trace/ID\n",
    "count_val_lst = df_val.groupby('case:concept:name').count()['time_diff'].tolist()\n",
    "# Assign position number to each row/process\n",
    "position_lst_1_val = [list(range(1, i + 1)) for i in count_val_lst]\n",
    "position_lst_val = []\n",
    "for i in position_lst_1_val:\n",
    "    for j in i:\n",
    "        position_lst_val.append(j)\n",
    "df_val['position'] = position_lst_val\n",
    "# Set the time difference of every process with position = 1 as 0\n",
    "df_val.loc[df_val['position'] == 1, 'time_diff'] = 0\n",
    "# Create the predicted time column per entry using the mean time difference\n",
    "pred_time_lst_val = []\n",
    "for j in position_lst_val:\n",
    "    if j <= len(mean_time_lst):\n",
    "        pred_time_lst_val.append(mean_time_lst[j - 1])\n",
    "    else:\n",
    "        pred_time_lst_val.append(0)\n",
    "df_val['baseline_predicted_time'] = pred_time_lst_val\n",
    "df_val"
   ]
  },
  {
   "cell_type": "code",
   "execution_count": null,
   "metadata": {},
   "outputs": [],
   "source": [
    "# Calculate time difference\n",
    "df_test['time_diff'] = df_test['time:timestamp'].diff().dt.total_seconds()\n",
    "# Set the time difference of the 1st row 0\n",
    "df_test.loc[0, 'time_diff'] = 0\n",
    "# Count number of processes per trace/ID\n",
    "count_test_lst = df_test.groupby('case:concept:name').count()['time_diff'].tolist()\n",
    "# Assign position number to each row/process\n",
    "position_lst_1_test = [list(range(1, i + 1)) for i in count_test_lst]\n",
    "position_lst_test = []\n",
    "for i in position_lst_1_test:\n",
    "    for j in i:\n",
    "        position_lst_test.append(j)\n",
    "df_test['position'] = position_lst_test\n",
    "# Set the time difference of every process with position = 1 as 0\n",
    "df_test.loc[df_test['position'] == 1, 'time_diff'] = 0\n",
    "# Create the predicted time column per entry using the mean time difference\n",
    "pred_time_lst_test = []\n",
    "for j in position_lst_test:\n",
    "    if j <= len(mean_time_lst):\n",
    "        pred_time_lst_test.append(mean_time_lst[j - 1])\n",
    "    else:\n",
    "        pred_time_lst_test.append(0)\n",
    "df_test['baseline_predicted_time'] = pred_time_lst_test\n",
    "df_test"
   ]
  }
 ],
 "metadata": {
  "kernelspec": {
   "display_name": "Python 3 (ipykernel)",
   "language": "python",
   "name": "python3"
  },
  "language_info": {
   "codemirror_mode": {
    "name": "ipython",
    "version": 3
   },
   "file_extension": ".py",
   "mimetype": "text/x-python",
   "name": "python",
   "nbconvert_exporter": "python",
   "pygments_lexer": "ipython3",
   "version": "3.9.7"
  }
 },
 "nbformat": 4,
 "nbformat_minor": 4
}
