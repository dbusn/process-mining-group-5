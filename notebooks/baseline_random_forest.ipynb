{
 "cells": [
  {
   "cell_type": "markdown",
   "id": "8f2b37ef",
   "metadata": {},
   "source": [
    "# Import modules"
   ]
  },
  {
   "cell_type": "code",
   "execution_count": 1,
   "id": "6886aa94",
   "metadata": {},
   "outputs": [],
   "source": [
    "import numpy as np\n",
    "import pandas as pd\n",
    "import datetime as datetime\n",
    "from sklearn.ensemble import RandomForestClassifier"
   ]
  },
  {
   "cell_type": "markdown",
   "id": "5fb8d562",
   "metadata": {},
   "source": [
    "# Convert time: timestamp and registration date to unix timestamp"
   ]
  },
  {
   "cell_type": "code",
   "execution_count": 2,
   "id": "b8a45a92",
   "metadata": {},
   "outputs": [
    {
     "name": "stderr",
     "output_type": "stream",
     "text": [
      "/tmp/ipykernel_9536/20856302.py:8: DeprecationWarning: parsing timezone aware datetimes is deprecated; this will raise an error in the future\n",
      "  df_train['Date'] = np.array(df_train['time:timestamp'].values, dtype = 'datetime64').astype(datetime.datetime)\n",
      "/tmp/ipykernel_9536/20856302.py:9: DeprecationWarning: parsing timezone aware datetimes is deprecated; this will raise an error in the future\n",
      "  df_train['Regdate'] = np.array(df_train['case:REG_DATE'].values, dtype = 'datetime64').astype(datetime.datetime)\n",
      "/tmp/ipykernel_9536/20856302.py:14: DeprecationWarning: parsing timezone aware datetimes is deprecated; this will raise an error in the future\n",
      "  df_test['Date'] = np.array(df_test['time:timestamp'].values, dtype = 'datetime64').astype(datetime.datetime)\n",
      "/tmp/ipykernel_9536/20856302.py:15: DeprecationWarning: parsing timezone aware datetimes is deprecated; this will raise an error in the future\n",
      "  df_test['Regdate'] = np.array(df_test['case:REG_DATE'].values, dtype = 'datetime64').astype(datetime.datetime)\n",
      "/tmp/ipykernel_9536/20856302.py:20: DeprecationWarning: parsing timezone aware datetimes is deprecated; this will raise an error in the future\n",
      "  df_val['Date'] = np.array(df_val['time:timestamp'].values, dtype = 'datetime64').astype(datetime.datetime)\n",
      "/tmp/ipykernel_9536/20856302.py:21: DeprecationWarning: parsing timezone aware datetimes is deprecated; this will raise an error in the future\n",
      "  df_val['Regdate'] = np.array(df_val['case:REG_DATE'].values, dtype = 'datetime64').astype(datetime.datetime)\n"
     ]
    }
   ],
   "source": [
    "# Read the split dataset\n",
    "# Available on github/data/splits\n",
    "df_train = pd.read_csv('bpi2012_train.csv')\n",
    "df_test = pd.read_csv('bpi2012_test.csv')\n",
    "df_val = pd.read_csv('bpi2012_val.csv')\n",
    "\n",
    "# Perform conversion\n",
    "df_train['Date'] = np.array(df_train['time:timestamp'].values, dtype = 'datetime64').astype(datetime.datetime)\n",
    "df_train['Regdate'] = np.array(df_train['case:REG_DATE'].values, dtype = 'datetime64').astype(datetime.datetime)\n",
    "\n",
    "df_train['reg:unix'] = (df_train['Regdate'] - pd.Timestamp(\"1970-01-01\")) // pd.Timedelta('1s')\n",
    "df_train['time:unix'] = (df_train['Date'] - pd.Timestamp(\"1970-01-01\")) // pd.Timedelta('1s')\n",
    "\n",
    "df_test['Date'] = np.array(df_test['time:timestamp'].values, dtype = 'datetime64').astype(datetime.datetime)\n",
    "df_test['Regdate'] = np.array(df_test['case:REG_DATE'].values, dtype = 'datetime64').astype(datetime.datetime)\n",
    "\n",
    "df_test['reg:unix'] = (df_test['Regdate'] - pd.Timestamp(\"1970-01-01\")) // pd.Timedelta('1s')\n",
    "df_test['time:unix'] = (df_test['Date'] - pd.Timestamp(\"1970-01-01\")) // pd.Timedelta('1s')\n",
    "\n",
    "df_val['Date'] = np.array(df_val['time:timestamp'].values, dtype = 'datetime64').astype(datetime.datetime)\n",
    "df_val['Regdate'] = np.array(df_val['case:REG_DATE'].values, dtype = 'datetime64').astype(datetime.datetime)\n",
    "\n",
    "df_val['reg:unix'] = (df_val['Regdate'] - pd.Timestamp(\"1970-01-01\")) // pd.Timedelta('1s')\n",
    "df_val['time:unix'] = (df_val['Date'] - pd.Timestamp(\"1970-01-01\")) // pd.Timedelta('1s')"
   ]
  },
  {
   "cell_type": "markdown",
   "id": "f5e76383",
   "metadata": {},
   "source": [
    "# Map unique values of lifecycle:transition to a number"
   ]
  },
  {
   "cell_type": "code",
   "execution_count": 3,
   "id": "e31fc17b",
   "metadata": {},
   "outputs": [],
   "source": [
    "# Define mapping \n",
    "mapping_train = {item:i for i, item in enumerate(df_train[\"lifecycle:transition\"].unique())}\n",
    "mapping_test = {item:i for i, item in enumerate(df_test[\"lifecycle:transition\"].unique())}\n",
    "mapping_val = {item:i for i, item in enumerate(df_val[\"lifecycle:transition\"].unique())}\n",
    "\n",
    "# Apply mapping\n",
    "df_train[\"transition\"] = df_train[\"lifecycle:transition\"].apply(lambda x: mapping_train[x])\n",
    "df_test[\"transition\"] = df_test[\"lifecycle:transition\"].apply(lambda x: mapping_test[x])\n",
    "df_val[\"transition\"] = df_val[\"lifecycle:transition\"].apply(lambda x: mapping_val[x])"
   ]
  },
  {
   "cell_type": "markdown",
   "id": "57eddca4",
   "metadata": {},
   "source": [
    "# Fit the model"
   ]
  },
  {
   "cell_type": "code",
   "execution_count": 4,
   "id": "a33a9e2c",
   "metadata": {},
   "outputs": [
    {
     "data": {
      "text/plain": [
       "RandomForestClassifier(n_estimators=250)"
      ]
     },
     "execution_count": 4,
     "metadata": {},
     "output_type": "execute_result"
    }
   ],
   "source": [
    "# Drop all NaNs etc.\n",
    "df_train.dropna(axis=0, inplace=True)\n",
    "df_test.dropna(axis=0, inplace=True)\n",
    "df_val.dropna(axis=0, inplace=True)\n",
    "\n",
    "# Define predictors\n",
    "predictors=['time:unix','transition', 'org:resource', 'reg:unix']\n",
    "\n",
    "# Define the classifier\n",
    "rfc = RandomForestClassifier(n_estimators=250)\n",
    "\n",
    "# Fit the model\n",
    "rfc.fit(df_train[predictors], df_train['concept:name'])"
   ]
  },
  {
   "cell_type": "markdown",
   "id": "0bf296c7",
   "metadata": {},
   "source": [
    "# Predict"
   ]
  },
  {
   "cell_type": "code",
   "execution_count": 7,
   "id": "b9bda9e4",
   "metadata": {},
   "outputs": [],
   "source": [
    "pred_test = rfc.predict(df_test[predictors])\n",
    "pred_val = rfc.predict(df_val[predictors])\n",
    "\n",
    "df_test['predicted_action'] = pred_test\n",
    "df_val['predicted_action'] = pred_val"
   ]
  },
  {
   "cell_type": "markdown",
   "id": "bdcfe36d",
   "metadata": {},
   "source": [
    "# Metrics"
   ]
  },
  {
   "cell_type": "code",
   "execution_count": 8,
   "id": "10bd7c78",
   "metadata": {},
   "outputs": [
    {
     "name": "stdout",
     "output_type": "stream",
     "text": [
      "Accuracy:  0.5325057057887821\n"
     ]
    }
   ],
   "source": [
    "from sklearn import metrics\n",
    "actions_taken = df_val['concept:name']\n",
    "actions_taken = actions_taken[1:]\n",
    "\n",
    "actions_pred = df_val['predicted_action']\n",
    "actions_pred = actions_pred[:-1]\n",
    "\n",
    "test = pd.concat([actions_taken, actions_pred], axis=1)\n",
    "test.dropna(axis=0, inplace=True)\n",
    "\n",
    "print(\"Accuracy: \", metrics.accuracy_score(test['concept:name'], test['predicted_action']))"
   ]
  }
 ],
 "metadata": {
  "kernelspec": {
   "display_name": "Python (process-mining)",
   "language": "python",
   "name": "dbl-process-mining"
  },
  "language_info": {
   "codemirror_mode": {
    "name": "ipython",
    "version": 3
   },
   "file_extension": ".py",
   "mimetype": "text/x-python",
   "name": "python",
   "nbconvert_exporter": "python",
   "pygments_lexer": "ipython3",
   "version": "3.9.7"
  }
 },
 "nbformat": 4,
 "nbformat_minor": 5
}
