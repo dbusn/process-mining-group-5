{
  "nbformat": 4,
  "nbformat_minor": 0,
  "metadata": {
    "colab": {
      "name": "RNN Time Prediction.ipynb",
      "provenance": [],
      "collapsed_sections": []
    },
    "kernelspec": {
      "name": "python3",
      "display_name": "Python 3"
    },
    "language_info": {
      "name": "python"
    },
    "accelerator": "GPU"
  },
  "cells": [
    {
      "cell_type": "code",
      "execution_count": null,
      "metadata": {
        "id": "CrDm3SUoMyc3"
      },
      "outputs": [],
      "source": [
        "# Get 25 GB Extra RAM\n",
        "#[1] * 9 ** 10\n",
        "# mem = []\n",
        "# while True:\n",
        "#     mem.append(' ' * 10 ** 6)"
      ]
    },
    {
      "cell_type": "code",
      "source": [
        "import numpy as np\n",
        "import pandas as pd\n",
        "import re\n",
        "from tqdm import tqdm\n",
        "import datetime as datetime\n",
        "from sklearn.preprocessing import OneHotEncoder, MinMaxScaler\n",
        "from keras.models import Sequential, load_model, Model\n",
        "from keras.layers import Input, Dense, LSTM, Dropout, BatchNormalization\n",
        "from keras.callbacks import ModelCheckpoint, ReduceLROnPlateau\n",
        "from keras.optimizer_v2 import nadam as nadam_v2\n",
        "import os\n",
        "import math\n",
        "from sklearn.metrics import accuracy_score, confusion_matrix, r2_score, mean_squared_error"
      ],
      "metadata": {
        "id": "fphvNFVlhaEY"
      },
      "execution_count": null,
      "outputs": []
    },
    {
      "cell_type": "code",
      "source": [
        "#!pip install tensorflow-gpu"
      ],
      "metadata": {
        "id": "kRNrjqBrXF73"
      },
      "execution_count": null,
      "outputs": []
    },
    {
      "cell_type": "markdown",
      "source": [
        "# 0. GPU Setting and Import CSV (https://colab.research.google.com/notebooks/gpu.ipynb#scrollTo=sXnDmXR7RDr2)"
      ],
      "metadata": {
        "id": "Vy2e-dHG67bB"
      }
    },
    {
      "cell_type": "markdown",
      "source": [
        "The requirements to use the cuDNN implementation are:\n",
        "\n",
        "activation == tanh\n",
        "\n",
        "recurrent_activation == sigmoid\n",
        "\n",
        "recurrent_dropout == 0\n",
        "\n",
        "unroll is False\n",
        "\n",
        "use_bias is True\n",
        "\n",
        "Inputs, if use masking, are strictly right-padded.\n",
        "\n",
        "Eager execution is enabled in the outermost context."
      ],
      "metadata": {
        "id": "XmqVk6gXC83u"
      }
    },
    {
      "cell_type": "code",
      "source": [
        "%tensorflow_version 2.x\n",
        "import tensorflow as tf\n",
        "device_name = tf.test.gpu_device_name()\n",
        "if device_name != '/device:GPU:0':\n",
        "    raise SystemError('GPU device not found')\n",
        "print('Found GPU at: {}'.format(device_name))"
      ],
      "metadata": {
        "id": "st-byIlm67pe",
        "colab": {
          "base_uri": "https://localhost:8080/"
        },
        "outputId": "1a41155b-74de-49e6-8163-85b55e076655"
      },
      "execution_count": null,
      "outputs": [
        {
          "output_type": "stream",
          "name": "stdout",
          "text": [
            "Found GPU at: /device:GPU:0\n"
          ]
        }
      ]
    },
    {
      "cell_type": "code",
      "source": [
        "from google.colab import drive\n",
        "drive.mount('/content/drive')\n",
        "df_train = pd.read_csv(\"/content/drive/MyDrive/DBL Process Mining/Data/Split/bpi2017_train_filtered.csv\", parse_dates = ['time:timestamp'])\n",
        "df_val = pd.read_csv(\"/content/drive/MyDrive/DBL Process Mining/Data/Split/bpi2017_val_filtered.csv\", parse_dates = ['time:timestamp'])\n",
        "df_test = pd.read_csv(\"/content/drive/MyDrive/DBL Process Mining/Data/Split/bpi2017_test_filtered.csv\", parse_dates = ['time:timestamp'])\n",
        "\n",
        "# The default name indicating the case ID is case:concept:name\n",
        "# concept:name is the event\n",
        "# time:timestamp is the corresponding timestamp\n",
        "# Load the datasets, sort them on case and consequently timestamp, then reset the index\n",
        "df_train = df_train.sort_values(by = ['case:concept:name', 'time:timestamp']).reset_index(drop = True)\n",
        "df_val = df_val.sort_values(by = ['case:concept:name', 'time:timestamp']).reset_index(drop = True)\n",
        "df_test = df_test.sort_values(by = ['case:concept:name', 'time:timestamp']).reset_index(drop = True)"
      ],
      "metadata": {
        "id": "jAygj2X2NuLU",
        "colab": {
          "base_uri": "https://localhost:8080/"
        },
        "outputId": "11d26b81-1173-4753-998c-bb4b3efef0ac"
      },
      "execution_count": null,
      "outputs": [
        {
          "output_type": "stream",
          "name": "stdout",
          "text": [
            "Drive already mounted at /content/drive; to attempt to forcibly remount, call drive.mount(\"/content/drive\", force_remount=True).\n"
          ]
        }
      ]
    },
    {
      "cell_type": "markdown",
      "source": [
        "# 1. Normalization on Time Difference"
      ],
      "metadata": {
        "id": "XREfRF0GAKEw"
      }
    },
    {
      "cell_type": "code",
      "source": [
        "# Normalize time difference so that the time difference's value is within 0 and 1\n",
        "min_max_scaler = MinMaxScaler()\n",
        "df_train['nor_future_time_diff'] = min_max_scaler.fit_transform(np.array(df_train['future_time_diff']).reshape(-1, 1))\n",
        "# Use the range from training data on validation and test data\n",
        "df_val['nor_future_time_diff'] = min_max_scaler.transform(np.array(df_val['future_time_diff']).reshape(-1, 1))\n",
        "df_test['nor_future_time_diff'] = min_max_scaler.transform(np.array(df_test['future_time_diff']).reshape(-1, 1))"
      ],
      "metadata": {
        "id": "e9Wl-_QGAJLo"
      },
      "execution_count": null,
      "outputs": []
    },
    {
      "cell_type": "markdown",
      "source": [
        "# 2. One-hot Encoding"
      ],
      "metadata": {
        "id": "301KfRcqPH7T"
      }
    },
    {
      "cell_type": "code",
      "source": [
        "def onehot_now(df):\n",
        "    # Extract categorical and numerical variables\n",
        "    df_cat = df[['concept:name', 'lifecycle:transition', 'EventOrigin', 'Action']]\n",
        "    df_num = df[['nor_time_since_last_event', 'nor_time_since_case_starts', 'nor_time_since_midnight', 'nor_time_since_week_start', 'position']]\n",
        "    # Convert categorical variable columns to one-hot encoding (A large matrix with dummy variables is made)\n",
        "    enc = OneHotEncoder(handle_unknown = 'ignore', sparse = False)\n",
        "    enc.fit(df_train[['concept:name', 'lifecycle:transition', 'EventOrigin', 'Action']])\n",
        "    transformed = enc.transform(df_cat)\n",
        "    # Create a dataframe using the newly created matrix\n",
        "    df_ohe = pd.DataFrame(transformed, columns = enc.get_feature_names())\n",
        "    # Combine dummy dataframe with numerical dataframe\n",
        "    df_ohe = pd.concat([df_ohe, df_num], axis = 1)\n",
        "    return df_ohe\n",
        "\n",
        "df_train_now = onehot_now(df_train)\n",
        "df_val_now = onehot_now(df_val)\n",
        "df_test_now = onehot_now(df_test)\n",
        "\n",
        "enc = OneHotEncoder(handle_unknown = 'ignore', sparse = False)\n",
        "df_train_next = enc.fit_transform(df_train[['next:concept:name']])\n",
        "df_val_next = enc.transform(df_val[['next:concept:name']])\n",
        "df_test_next = enc.transform(df_test[['next:concept:name']])"
      ],
      "metadata": {
        "id": "PMMMN_uDPLgk",
        "colab": {
          "base_uri": "https://localhost:8080/"
        },
        "outputId": "f26e6b88-98f4-4137-b2b6-ffcd57266157"
      },
      "execution_count": null,
      "outputs": [
        {
          "output_type": "stream",
          "name": "stderr",
          "text": [
            "/usr/local/lib/python3.7/dist-packages/sklearn/utils/deprecation.py:87: FutureWarning: Function get_feature_names is deprecated; get_feature_names is deprecated in 1.0 and will be removed in 1.2. Please use get_feature_names_out instead.\n",
            "  warnings.warn(msg, category=FutureWarning)\n",
            "/usr/local/lib/python3.7/dist-packages/sklearn/utils/deprecation.py:87: FutureWarning: Function get_feature_names is deprecated; get_feature_names is deprecated in 1.0 and will be removed in 1.2. Please use get_feature_names_out instead.\n",
            "  warnings.warn(msg, category=FutureWarning)\n",
            "/usr/local/lib/python3.7/dist-packages/sklearn/utils/deprecation.py:87: FutureWarning: Function get_feature_names is deprecated; get_feature_names is deprecated in 1.0 and will be removed in 1.2. Please use get_feature_names_out instead.\n",
            "  warnings.warn(msg, category=FutureWarning)\n"
          ]
        }
      ]
    },
    {
      "cell_type": "code",
      "source": [
        "# Source: https://towardsdatascience.com/how-to-reshape-data-and-do-regression-for-time-series-using-lstm-133dad96cd00\n",
        "\n",
        "def lstm_data_transform(x_data, y_data_1, y_data_2, num_steps):\n",
        "    # Reshape the feature array to (621131, 27, 1) so that it fulfills the format requirement of LSTM (Number Of Examples, Time Steps, Features Per Step)\n",
        "    # Slide window approach to prevent throwing data away\n",
        "    # Prepare the list for the transformed data\n",
        "    X, y_1, y_2 = list(), list(), list()\n",
        "    # Loop of the entire data set\n",
        "    for i in range(x_data.shape[0]):\n",
        "        # Compute a new (sliding window) index\n",
        "        end = i + num_steps\n",
        "        # If index is larger than the size of the dataset, we stop\n",
        "        if end >= x_data.shape[0]:\n",
        "            break\n",
        "        # Get a sequence of data for x\n",
        "        seq_X = x_data[i: end]\n",
        "        # Get only the last element of the sequency for y\n",
        "        seq_y_1 = y_data_1[end]\n",
        "        seq_y_2 = y_data_2[end]\n",
        "        # Append the list with sequencies\n",
        "        X.append(seq_X)\n",
        "        y_1.append(seq_y_1)\n",
        "        y_2.append(seq_y_2)\n",
        "    # Make final arrays\n",
        "    x_array = np.array(X)\n",
        "    y_array_1 = np.array(y_1)\n",
        "    y_array_2 = np.array(y_2)\n",
        "    return x_array, y_array_1, y_array_2\n",
        "\n",
        "def zero_row(df, df_now, df_next, time_step):\n",
        "    # Convert all required data from dataframe to numpy arrays\n",
        "    x = df_now.to_numpy()\n",
        "    y_1 = df_next\n",
        "    y_2 = df[['nor_future_time_diff']].to_numpy()\n",
        "    # Create rows with just 0 at the beginning so that number of samples after sliding window matches the actual sample size, and no future data is used\n",
        "    x_0 = np.zeros((time_step, x.shape[1]), dtype = float)\n",
        "    y_0_1 = np.zeros((time_step, y_1.shape[1]), dtype = float)\n",
        "    y_0_2 = np.zeros((time_step, y_2.shape[1]), dtype = float)\n",
        "    x = np.concatenate((x_0, x))\n",
        "    y_1 = np.concatenate((y_0_1, y_1))\n",
        "    y_2 = np.concatenate((y_0_2, y_2))\n",
        "    x, y_1, y_2 = lstm_data_transform(x, y_1, y_2, time_step)\n",
        "    return x, y_1, y_2"
      ],
      "metadata": {
        "id": "tX4CY0L_Trln"
      },
      "execution_count": null,
      "outputs": []
    },
    {
      "cell_type": "code",
      "source": [
        "time_step = 40 # Your chosen batch-size/timestep\n",
        "\n",
        "x_train, y_train_event, y_train_time = zero_row(df_train, df_train_now, df_train_next, time_step)\n",
        "x_val, y_val_event, y_val_time = zero_row(df_val, df_val_now, df_val_next, time_step)\n",
        "x_test, y_test_event, y_test_time = zero_row(df_test, df_test_now, df_test_next, time_step)"
      ],
      "metadata": {
        "id": "b6FHWMcJd7oh"
      },
      "execution_count": null,
      "outputs": []
    },
    {
      "cell_type": "markdown",
      "source": [
        "# 4. LSTM Model"
      ],
      "metadata": {
        "id": "tmOYwvyFe0gA"
      }
    },
    {
      "cell_type": "code",
      "source": [
        "%%time\n",
        "with tf.device(device_name):\n",
        "\n",
        "    # create and fit the LSTM network\n",
        "    model = Sequential()\n",
        "\n",
        "    # First LSTM layer with 256 units, 0.2 dropout, activation as tanh, input shape (27, 1)\n",
        "    # It returns the last input so that the next LSTM layer can run properly\n",
        "    # return_sequences=True when many-to-many. return_sequence=False when many-to-one\n",
        "    # tanh is used because it is the only activation that fulfills requirement of gpu\n",
        "    # model.add(LSTM(256, activation='tanh', input_shape=(df_train_now.shape[1], 1), return_sequences=True))\n",
        "    #model.add(LSTM(256, activation='tanh', input_shape=(time_step, df_train_now.shape[1]), return_sequences = True))\n",
        "    #model.add(Dropout(0.2))\n",
        "\n",
        "    # Second LSTM layer with 64 units, 0.2 dropout, activation as tanh\n",
        "    # It does not return the last output because there are no more LSTM layers\n",
        "    #model.add(LSTM(64, activation='tanh'))\n",
        "    #model.add(Dropout(0.2))\n",
        "\n",
        "    # Output Dense layer with 1 unit because the output is 1D\n",
        "    #model.add(Dense(1))\n",
        "\n",
        "    # build the model: \n",
        "    main_input = Input(shape = (time_step, df_train_now.shape[1]), name = 'main_input')\n",
        "    # train a 2-layer LSTM with one shared layer\n",
        "    l1 = LSTM(100, implementation = 2, kernel_initializer = 'glorot_uniform', return_sequences = True, dropout = 0.2)(main_input) # the shared layer\n",
        "    b1 = BatchNormalization()(l1)\n",
        "    l2_1 = LSTM(100, implementation = 2, kernel_initializer = 'glorot_uniform', return_sequences = False, dropout = 0.2)(b1) # the layer specialized in activity prediction\n",
        "    b2_1 = BatchNormalization()(l2_1)\n",
        "    l2_2 = LSTM(100, implementation = 2, kernel_initializer = 'glorot_uniform', return_sequences = False, dropout = 0.2)(b1) # the layer specialized in time prediction\n",
        "    b2_2 = BatchNormalization()(l2_2)\n",
        "    # Originally softmax is used\n",
        "    act_output = Dense(len(df_train['next:concept:name'].unique().tolist()), activation = 'softmax', kernel_initializer = 'glorot_uniform', name = 'act_output')(b2_1)\n",
        "    time_output = Dense(1, kernel_initializer = 'glorot_uniform', name = 'time_output')(b2_2)\n",
        "\n",
        "    model = Model(inputs = [main_input], outputs = [act_output, time_output])\n",
        "\n",
        "    opt = nadam_v2.Nadam(learning_rate = 0.002, beta_1 = 0.9, beta_2 = 0.999, epsilon = 1e-08, schedule_decay = 0.004, clipvalue = 3)\n",
        "\n",
        "    # The loss used in model training is mean_squared_error because it is time prediction\n",
        "    # The optimizer is Adam\n",
        "    model.compile(loss = {'act_output':'categorical_crossentropy', 'time_output': 'mae'}, optimizer = opt)\n",
        "\n",
        "    # Save the best model\n",
        "    checkpoint_filepath = '/content/drive/MyDrive/Process Mining RNN/model/weights.{epoch:02d}.h5'\n",
        "    model_checkpoint_callback = ModelCheckpoint(filepath = checkpoint_filepath, monitor = 'val_loss', mode = 'min', save_best_only = True)\n",
        "    lr_reducer = ReduceLROnPlateau(monitor = 'val_loss', factor = 0.5, patience = 10, verbose = 0, mode = 'auto', min_delta = 0.0001, cooldown = 0, min_lr = 0)\n",
        "\n",
        "    # Fit the model with 20 epoches and batch size 64\n",
        "    # Validation data is used here for evaluation during the training process\n",
        "    model.fit(x_train, {'act_output': y_train_event, 'time_output': y_train_time}, validation_data = (x_val, {'act_output': y_val_event, 'time_output': y_val_time}), epochs = 1, batch_size = time_step, callbacks = [model_checkpoint_callback, lr_reducer])"
      ],
      "metadata": {
        "id": "WqAw_qj0e4Sn",
        "colab": {
          "base_uri": "https://localhost:8080/"
        },
        "outputId": "4d405a30-0f4c-4e61-9571-7b750d42cb18"
      },
      "execution_count": null,
      "outputs": [
        {
          "output_type": "stream",
          "name": "stdout",
          "text": [
            "6516/6516 [==============================] - 367s 55ms/step - loss: 0.6735 - act_output_loss: 0.6241 - time_output_loss: 0.0494 - val_loss: 0.5700 - val_act_output_loss: 0.5519 - val_time_output_loss: 0.0181 - lr: 0.0020\n",
            "CPU times: user 5min 22s, sys: 34.7 s, total: 5min 57s\n",
            "Wall time: 6min 13s\n"
          ]
        }
      ]
    },
    {
      "cell_type": "code",
      "source": [
        "# Look for all file directories in the folder\n",
        "directory = \"/content/drive/MyDrive/Process Mining RNN/model/\"\n",
        "all_file_lst = []\n",
        "for root, subdirectories, files in os.walk(directory):\n",
        "    for file in files:\n",
        "        all_file_lst.append(os.path.join(root, file))\n",
        "# Load the best model trained\n",
        "model = load_model(all_file_lst[-1])"
      ],
      "metadata": {
        "id": "L-9mSu17Q84t"
      },
      "execution_count": null,
      "outputs": []
    },
    {
      "cell_type": "code",
      "source": [
        "%%time\n",
        "# make predictions\n",
        "train_predict_event, train_predict_time = model.predict(x_train)\n",
        "val_predict_event, val_predict_time = model.predict(x_val)\n",
        "test_predict_event, test_predict_time = model.predict(x_test)"
      ],
      "metadata": {
        "id": "eBG_g8OcNH9U",
        "colab": {
          "base_uri": "https://localhost:8080/"
        },
        "outputId": "677759b2-777a-4247-a176-ef06e1eef5d9"
      },
      "execution_count": null,
      "outputs": [
        {
          "output_type": "stream",
          "name": "stdout",
          "text": [
            "CPU times: user 2min 18s, sys: 8.95 s, total: 2min 27s\n",
            "Wall time: 2min 7s\n"
          ]
        }
      ]
    },
    {
      "cell_type": "markdown",
      "source": [
        "# 5. Create New Columns with RNN Event and Time Prediction"
      ],
      "metadata": {
        "id": "q8pDfCwsIT92"
      }
    },
    {
      "cell_type": "code",
      "source": [
        "# Obtain event predictions from the highest probability of the label found, then find its label string name\n",
        "train_pred_event_lst = enc.get_feature_names()[np.argmax(train_predict_event, axis = 1)]\n",
        "train_pred_event_lst = [i.replace('x0_', '') for i in train_pred_event_lst]\n",
        "val_pred_event_lst = enc.get_feature_names()[np.argmax(val_predict_event, axis = 1)]\n",
        "val_pred_event_lst = [i.replace('x0_', '') for i in val_pred_event_lst]\n",
        "test_pred_event_lst = enc.get_feature_names()[np.argmax(test_predict_event, axis = 1)]\n",
        "test_pred_event_lst = [i.replace('x0_', '') for i in test_pred_event_lst]\n",
        "\n",
        "df_train['RNN_next_event'] = train_pred_event_lst\n",
        "df_val['RNN_next_event'] = val_pred_event_lst\n",
        "df_test['RNN_next_event'] = test_pred_event_lst"
      ],
      "metadata": {
        "colab": {
          "base_uri": "https://localhost:8080/"
        },
        "id": "H13UX4FTpSXr",
        "outputId": "f3db041c-2011-456a-f6d6-94a3ea17b8ca"
      },
      "execution_count": null,
      "outputs": [
        {
          "output_type": "stream",
          "name": "stderr",
          "text": [
            "/usr/local/lib/python3.7/dist-packages/sklearn/utils/deprecation.py:87: FutureWarning: Function get_feature_names is deprecated; get_feature_names is deprecated in 1.0 and will be removed in 1.2. Please use get_feature_names_out instead.\n",
            "  warnings.warn(msg, category=FutureWarning)\n"
          ]
        }
      ]
    },
    {
      "cell_type": "code",
      "source": [
        "# Invert time predictions from min-max scaling to their actual value\n",
        "train_predict_time = min_max_scaler.inverse_transform(train_predict_time)\n",
        "val_predict_time = min_max_scaler.inverse_transform(val_predict_time)\n",
        "test_predict_time = min_max_scaler.inverse_transform(test_predict_time)\n",
        "\n",
        "train_pred_time_lst = train_predict_time[: , 0].tolist()\n",
        "val_pred_time_lst = val_predict_time[: , 0].tolist()\n",
        "test_pred_time_lst = test_predict_time[: , 0].tolist()\n",
        "# # Due to the difference in number of terms for sliding window and actual sample size, the last value is being added until the prediction has equal size as input\n",
        "# for i in range(df_train.shape[0] - len(train_pred_lst)):\n",
        "#     train_pred_lst.append(train_pred_lst[-1])\n",
        "# for i in range(df_val.shape[0] - len(val_pred_lst)):\n",
        "#     val_pred_lst.append(val_pred_lst[-1])\n",
        "# for i in range(df_test.shape[0] - len(test_pred_lst)):\n",
        "#     test_pred_lst.append(test_pred_lst[-1])\n",
        "df_train['RNN_time_diff'] = train_pred_time_lst\n",
        "df_val['RNN_time_diff'] = val_pred_time_lst\n",
        "df_test['RNN_time_diff'] = test_pred_time_lst"
      ],
      "metadata": {
        "id": "g3fW4-ODFwcd"
      },
      "execution_count": null,
      "outputs": []
    },
    {
      "cell_type": "markdown",
      "source": [
        "# 6. Accuracy and Confusion Matrix"
      ],
      "metadata": {
        "id": "P4hMwNrYZJE2"
      }
    },
    {
      "cell_type": "code",
      "source": [
        "train_true_event = df_train['next:concept:name'].tolist()\n",
        "val_true_event = df_val['next:concept:name'].tolist()\n",
        "test_true_event = df_test['next:concept:name'].tolist()\n",
        "\n",
        "train_rnn_event = df_train['RNN_next_event'].tolist()\n",
        "val_rnn_event = df_val['RNN_next_event'].tolist()\n",
        "test_rnn_event = df_test['RNN_next_event'].tolist()"
      ],
      "metadata": {
        "id": "ImUXimRjZJPL"
      },
      "execution_count": null,
      "outputs": []
    },
    {
      "cell_type": "code",
      "source": [
        "accuracy_score(train_true_event, train_rnn_event), accuracy_score(val_true_event, val_rnn_event), accuracy_score(test_true_event, test_rnn_event)"
      ],
      "metadata": {
        "id": "1zAeA7TDayEb",
        "colab": {
          "base_uri": "https://localhost:8080/"
        },
        "outputId": "7fc63a23-0c78-46f5-f010-9bd5cae69f62"
      },
      "execution_count": null,
      "outputs": [
        {
          "output_type": "execute_result",
          "data": {
            "text/plain": [
              "(0.8067047294549193, 0.8034728682170542, 0.7463596460670243)"
            ]
          },
          "metadata": {},
          "execution_count": 19
        }
      ]
    },
    {
      "cell_type": "code",
      "source": [
        "confusion_matrix(train_true_event, train_rnn_event)"
      ],
      "metadata": {
        "id": "OFo2vabzbvme",
        "colab": {
          "base_uri": "https://localhost:8080/"
        },
        "outputId": "8299d94b-ec39-49d6-b089-7e1551d67063"
      },
      "execution_count": null,
      "outputs": [
        {
          "output_type": "execute_result",
          "data": {
            "text/plain": [
              "array([[ 2122,     0,     0,    10,     0,     0,     0,     0,     0,\n",
              "            0,     0,     0,  2807,     0,     0,     0,     0,     0,\n",
              "            0,     0,     0,  1937,     0,     0,     0],\n",
              "       [    0,     0,     0,     0,     0,     0,     0,     0,     0,\n",
              "            1,     0,    12,     0,     1,     0,     0,    25,     0,\n",
              "            0,   845,   139,    11,     0,     0,    65],\n",
              "       [    0,     0,  6821,     0,     0,     0,     0,     0,     0,\n",
              "            0,     0,     0,     0,     0,     0,     0,     0,     0,\n",
              "            0,     0,     0,     0,     0,     0,     0],\n",
              "       [    0,     0,     0,  6032,     0,     0,     0,   661,     0,\n",
              "          109,     0,     0,     0,     0,     0,     0,     0,     0,\n",
              "            0,     0,     0,    74,     0,     0,     0],\n",
              "       [    0,     0,     1,     0,     0,     0,     7,     0,     0,\n",
              "            0,     0,     1,     0,     1,     0,     2,     9,     0,\n",
              "           23,    49,    58,    11,     0,     0,   868],\n",
              "       [    0,     0,     0,     0,     0,  4725,     0,     0,     0,\n",
              "            0,     0,     0,     0,     0,     0,     0,     0,     0,\n",
              "            0,     0,     0,     0,     0,     0,     0],\n",
              "       [    0,     0,     0,     0,     0,     0,   792,     0,     0,\n",
              "            0,     0,     1,     0,     1,     0,     0,     0,     0,\n",
              "            4,     0,   943,     0,     0,     0,  3006],\n",
              "       [    0,     0,     0,     0,     0,     0,     0,  3831,     0,\n",
              "          557,     0,     1,     0,     0,     0,     0,     0,     0,\n",
              "            0,     0,     0,     7,     0,     0,     0],\n",
              "       [    0,     0,     1,     0,     0,     2,     0,     0,  9415,\n",
              "            0,     0,     0,     0,     0,     0,     0,     0,     0,\n",
              "            0,     0,     0,     0,     0,     0,     0],\n",
              "       [    0,     0,     0,     0,     0,     0,     0,    68,     0,\n",
              "         6740,     0,    16,     0,     8,     0,     0,     1,     0,\n",
              "            0,    40,     0,     1,     0,     0,     2],\n",
              "       [    0,     0,     0,     0,     0,     0,    52,     0,     0,\n",
              "            0,     0,     0,     0,     0,     0,     0,     0,     0,\n",
              "            4,     0,   986,     0,     0,     0,  3705],\n",
              "       [    0,     0,     0,     0,     0,     0,     1,     0,     0,\n",
              "          398,     0,  1448,     0,     2,     5,     0,   155,     0,\n",
              "            0,   475,   170,    45,     0,     0,   535],\n",
              "       [    0,     0,     0,     0,     0,     0,     0,     0,     0,\n",
              "            0,     0,     8,  6132,    92,     0,     0,   790,     0,\n",
              "            0,  1117,   309,   725,     0,     0,    55],\n",
              "       [    0,     0,     0,     0,     0,     0,     2,     0,     0,\n",
              "            1,     0,    83,    99,  6755,     0,     0,    53,     0,\n",
              "            0,   539,   288,   815,     0,     0,   593],\n",
              "       [    0,     0,     0,     0,     0,     0,    24,     0,     0,\n",
              "           19,     0,    19,     0,     0,   156,     0,     2,     0,\n",
              "           23,    31,    62,    14,     0,     0,   897],\n",
              "       [    0,     0,     0,     0,     0,     0,     3,     0,     0,\n",
              "            0,     0,     0,     0,     0,     0,  5668,     0,     0,\n",
              "            0,     1,   231,     0,     0,     0,   245],\n",
              "       [    0,     0,     0,     0,     0,     0,     0,     0,     0,\n",
              "            0,     0,     3,     0,     3,     0,     0,  8360,     2,\n",
              "            0,    54,     4,   127,     0,     0,     0],\n",
              "       [    0,     0,     0,     0,     0,     0,     0,     0,     0,\n",
              "            1,     0,     0,     0,     0,     0,     0,   383,     2,\n",
              "            0,     4,     3,     8,     0,     0,     2],\n",
              "       [    0,     0,     0,     2,     0,    27,     3,     0,     3,\n",
              "            1,     0,     0,     0,     0,     0,     0,     0,     0,\n",
              "          302,     1,    49,     8,     0,     0,    50],\n",
              "       [    0,     0,     0,     0,     0,     0,     0,     0,     6,\n",
              "            6,     0,    54,     3,    85,     0,     4,    14,     0,\n",
              "            0, 39791,     1,    76,     0,     0,   788],\n",
              "       [    0,     0,     0,     0,     0,     0,   296,     2,     0,\n",
              "           40,     0,     1,     0,     1,     0,     0,     5,     0,\n",
              "            7,    26, 26961,     1,     0,     0,  4918],\n",
              "       [  358,     0,     0,    64,     0,     0,     0,  1503,     0,\n",
              "          202,     0,     0,  5176,   254,     0,     0,   222,     0,\n",
              "            0,    33,     0, 21680,   448,     0,     0],\n",
              "       [    0,     0,     0,     2,     0,     0,     0,     0,     0,\n",
              "            0,     0,     0,     0,     1,     0,     0,     0,     0,\n",
              "            4,     0,     0,  4186,  5393,     0,     0],\n",
              "       [    0,     0,     1,     0,     0,     0,     0,     1,     1,\n",
              "            1,     0,     0,     5,     1,     0,     0,     2,     0,\n",
              "            0,    15,     1,     3,     0,     0,     1],\n",
              "       [    0,     0,     0,     0,     0,     3,   339,     0,     0,\n",
              "           69,     0,   290,     0,     4,     3,   215,     1,     0,\n",
              "           62,   684,  3091,     0,     0,     0, 47119]])"
            ]
          },
          "metadata": {},
          "execution_count": 20
        }
      ]
    },
    {
      "cell_type": "code",
      "source": [
        "confusion_matrix(val_true_event, val_rnn_event)"
      ],
      "metadata": {
        "id": "UA83Wzbybv9Z",
        "colab": {
          "base_uri": "https://localhost:8080/"
        },
        "outputId": "30096c53-507b-4408-c89d-871f59f61d05"
      },
      "execution_count": null,
      "outputs": [
        {
          "output_type": "execute_result",
          "data": {
            "text/plain": [
              "array([[  527,     0,     0,     3,     0,     0,     0,     0,     0,\n",
              "            0,     0,     0,   716,     0,     0,     0,     0,     0,\n",
              "            0,     0,     0,   474,     0,     0,     0],\n",
              "       [    0,     0,     0,     0,     0,     0,     0,     0,     0,\n",
              "            0,     0,     6,     0,     1,     0,     0,     9,     0,\n",
              "            0,   240,    44,     4,     0,     0,    18],\n",
              "       [    0,     0,  1705,     0,     0,     0,     0,     0,     0,\n",
              "            0,     0,     0,     0,     0,     0,     0,     0,     0,\n",
              "            0,     0,     0,     0,     0,     0,     0],\n",
              "       [    0,     0,     0,  1513,     0,     0,     0,   170,     0,\n",
              "           23,     0,     0,     0,     0,     0,     0,     0,     0,\n",
              "            0,     0,     0,    14,     0,     0,     0],\n",
              "       [    0,     0,     0,     0,     0,     0,     1,     0,     0,\n",
              "            0,     0,     0,     0,     0,     0,     0,     1,     0,\n",
              "            8,    15,     4,     2,     0,     0,   205],\n",
              "       [    0,     0,     0,     0,     0,  1142,     0,     0,     1,\n",
              "            0,     0,     0,     0,     0,     0,     0,     0,     0,\n",
              "            0,     0,     0,     0,     0,     0,     0],\n",
              "       [    0,     0,     0,     0,     0,     0,   168,     0,     0,\n",
              "            0,     0,     0,     0,     0,     0,     0,     0,     0,\n",
              "            0,     0,   219,     0,     0,     0,   775],\n",
              "       [    0,     0,     0,     2,     0,     0,     0,   953,     0,\n",
              "          134,     0,     0,     0,     0,     0,     0,     0,     0,\n",
              "            0,     0,     0,     1,     0,     0,     0],\n",
              "       [    0,     0,     0,     0,     0,     1,     0,     0,  2297,\n",
              "            0,     0,     0,     0,     0,     0,     0,     0,     0,\n",
              "            0,     0,     0,     0,     0,     0,     0],\n",
              "       [    0,     0,     0,     0,     0,     0,     0,    15,     0,\n",
              "         1685,     0,     1,     0,     3,     0,     0,     0,     0,\n",
              "            0,    16,     0,     0,     0,     0,     0],\n",
              "       [    0,     0,     0,     0,     0,     0,    10,     0,     0,\n",
              "            0,     0,     0,     0,     0,     0,     0,     0,     0,\n",
              "            0,     0,   228,     0,     0,     0,   924],\n",
              "       [    0,     0,     0,     0,     0,     0,     0,     1,     0,\n",
              "           88,     0,   386,     0,     0,     1,     0,    43,     0,\n",
              "            0,   128,    51,    12,     0,     0,   143],\n",
              "       [    0,     0,     0,     0,     0,     0,     0,     0,     0,\n",
              "            0,     0,     3,  1536,    19,     0,     0,   187,     0,\n",
              "            0,   304,    63,   183,     0,     0,    12],\n",
              "       [    0,     0,     0,     0,     0,     0,     0,     0,     0,\n",
              "            1,     0,    19,    24,  1683,     0,     0,    19,     0,\n",
              "            0,   136,    59,   190,     0,     0,   176],\n",
              "       [    0,     0,     0,     0,     0,     0,     9,     0,     0,\n",
              "            6,     0,     5,     0,     0,    38,     0,     0,     0,\n",
              "           10,    12,    14,     0,     0,     0,   198],\n",
              "       [    0,     0,     0,     0,     0,     0,     0,     0,     0,\n",
              "            0,     0,     0,     0,     0,     0,  1370,     0,     0,\n",
              "            0,     0,    63,     0,     0,     0,    55],\n",
              "       [    0,     0,     0,     0,     0,     0,     0,     0,     0,\n",
              "            0,     0,     0,     0,     1,     0,     0,  2078,     0,\n",
              "            0,    21,     1,    43,     0,     0,     0],\n",
              "       [    0,     0,     0,     0,     0,     0,     0,     0,     0,\n",
              "            1,     0,     0,     0,     0,     0,     0,    97,     0,\n",
              "            0,     0,     1,     1,     0,     0,     0],\n",
              "       [    0,     0,     0,     1,     0,    10,     0,     0,     1,\n",
              "            2,     0,     0,     5,     0,     0,     0,     0,     0,\n",
              "          106,     1,    14,     4,     0,     0,    17],\n",
              "       [    0,     0,     0,     0,     0,     0,     0,     0,     2,\n",
              "            2,     0,    22,     0,    22,     0,     1,     1,     0,\n",
              "            0,  9902,     1,    16,     0,     0,   184],\n",
              "       [    0,     0,     0,     0,     0,     0,    64,     0,     0,\n",
              "           13,     0,     1,     0,     0,     0,     1,     1,     0,\n",
              "            2,     1,  6502,     0,     0,     0,  1177],\n",
              "       [  102,     0,     0,    12,     0,     0,     0,   383,     0,\n",
              "           55,     0,     0,  1352,    63,     0,     0,    59,     0,\n",
              "            1,     8,     0,  5413,   107,     0,     0],\n",
              "       [    0,     0,     0,     1,     0,     0,     0,     0,     0,\n",
              "            0,     0,     0,     0,     0,     0,     0,     0,     0,\n",
              "            0,     0,     0,  1050,  1342,     0,     0],\n",
              "       [    0,     0,     0,     0,     0,     0,     0,     0,     0,\n",
              "            0,     0,     0,     4,     0,     0,     0,     0,     0,\n",
              "            0,    10,     0,     4,     0,     0,     0],\n",
              "       [    0,     0,     0,     0,     0,     2,   101,     0,     0,\n",
              "           14,     0,    82,     0,     1,     0,    67,     1,     0,\n",
              "           23,   167,   753,     0,     0,     0, 11478]])"
            ]
          },
          "metadata": {},
          "execution_count": 21
        }
      ]
    },
    {
      "cell_type": "code",
      "source": [
        "confusion_matrix(test_true_event, test_rnn_event)"
      ],
      "metadata": {
        "id": "tDY2AZdCbwDn",
        "colab": {
          "base_uri": "https://localhost:8080/"
        },
        "outputId": "89bafb84-845c-47ca-919b-4443e458b9c0"
      },
      "execution_count": null,
      "outputs": [
        {
          "output_type": "execute_result",
          "data": {
            "text/plain": [
              "array([[ 231,    0,    0,    0,    0,    0,    0,    0,    0,    0,    0,\n",
              "           0,  355,    0,    0,    0,    0,    0,    0,    0,    0,  165,\n",
              "           0,    0],\n",
              "       [   0,    0,    0,    0,    0,    0,    0,    0,    0,    0,    0,\n",
              "           0,    0,    0,    0,    2,    2,    0,    0,   35,   26,    0,\n",
              "           0,  185],\n",
              "       [   0,    0,  747,    0,    0,    0,    0,    0,    0,    0,    0,\n",
              "           0,    0,    0,    0,    0,    0,    0,    0,    0,    0,    0,\n",
              "           0,    0],\n",
              "       [   1,    0,    0,  663,    0,    0,    0,   70,    2,    8,    0,\n",
              "           0,    0,    0,    0,    0,    0,    0,    0,    0,    0,    5,\n",
              "           0,    2],\n",
              "       [   0,    0,    0,    0,    0,    0,    2,    0,    1,    0,    0,\n",
              "           0,    0,    0,    0,    0,    1,    0,    2,    0,    6,    2,\n",
              "           0,   79],\n",
              "       [   0,    0,    0,    0,    0,  625,    0,    0,    0,    0,    0,\n",
              "           0,    0,    0,    0,    0,    0,    0,    0,    0,    0,    0,\n",
              "           0,    0],\n",
              "       [   0,    0,    0,    0,    0,    0,   42,    0,    0,    0,    0,\n",
              "           0,    0,    0,    0,    0,    0,    0,    0,    0,  146,    0,\n",
              "           0,  197],\n",
              "       [   0,    0,    0,    0,    0,    0,    0,  348,    5,   86,    0,\n",
              "           0,    0,    0,    0,    0,    0,    0,    0,    1,    8,    2,\n",
              "           0,   11],\n",
              "       [   0,    0,    0,    0,    0,    0,    0,    0,  956,    0,    0,\n",
              "           0,    0,    0,    0,    0,    0,    0,    0,    0,    0,    0,\n",
              "           0,    0],\n",
              "       [   0,    0,    0,    0,    0,    0,    0,    3,    0,  605,    0,\n",
              "           2,    0,    1,    0,    0,    1,    0,    0,   45,   10,    0,\n",
              "           0,   84],\n",
              "       [   0,    0,    0,    0,    0,    0,    9,    0,    0,    0,    0,\n",
              "           0,    0,    0,    0,    0,    0,    0,    0,    0,  141,    0,\n",
              "           0,  235],\n",
              "       [   0,    0,    0,    0,    0,    0,    0,    0,  183,   51,    0,\n",
              "         120,    0,    0,    0,    1,   17,    0,    0,   41,   38,    2,\n",
              "           0,   35],\n",
              "       [   0,    0,    0,    0,    0,    0,    0,    0,    1,    0,    0,\n",
              "           0,  695,   18,    0,    0,   91,    0,    0,   59,   53,   49,\n",
              "           0,   60],\n",
              "       [   0,    0,    0,    0,    0,    0,    2,    0,   55,    1,    0,\n",
              "           5,   13,  730,    0,    1,   11,    0,    0,   46,   49,   95,\n",
              "           0,   18],\n",
              "       [   0,    0,    0,    0,    0,    0,    5,    0,    1,    2,    0,\n",
              "           0,    0,    0,   16,    2,    0,    0,    2,    0,   16,    2,\n",
              "           0,   69],\n",
              "       [   0,    0,    0,    0,    0,    0,    0,    0,    0,    0,    0,\n",
              "           0,    0,    0,    0,  450,    0,    0,    0,    0,   66,    0,\n",
              "           0,   27],\n",
              "       [   0,    0,    0,    0,    0,    0,    0,    0,    0,    1,    0,\n",
              "           0,    0,    1,    0,    0,  908,    0,    0,   11,    1,   15,\n",
              "           0,    0],\n",
              "       [   0,    0,    0,    0,    0,    0,    0,    0,    0,    2,    0,\n",
              "           0,    0,    0,    0,    0,   55,    1,    0,    0,    0,    1,\n",
              "           0,    1],\n",
              "       [   0,    0,    0,    0,    0,    6,    1,    0,    4,    0,    0,\n",
              "           0,    3,    0,    0,    0,    0,    0,   35,    1,    9,    2,\n",
              "           0,   10],\n",
              "       [   0,    0,    0,    0,    0,    0,    0,    0,   10,    1,    0,\n",
              "           4,    0,    4,    0,    9,    0,    0,    0, 3839,    0,   10,\n",
              "           0,  604],\n",
              "       [   0,    0,    0,    0,    0,    0,   52,    0,    0,   16,    0,\n",
              "           1,    0,    0,    0,    0,    1,    0,    2,   16, 3929,    0,\n",
              "           0,  639],\n",
              "       [  61,    0,    0,    6,    0,    0,    0,  169,    2,   31,    0,\n",
              "           3,  827,   38,    0,    0,   24,    0,    0,    5,    2, 2363,\n",
              "         112,    4],\n",
              "       [   0,    0,    0,    0,    0,    0,    0,    0,    0,    0,    0,\n",
              "           7,    0,    0,    0,    0,    6,    0,    0,    0,    0,  405,\n",
              "         629,    0],\n",
              "       [   0,    0,    0,    0,    0,    1,   54,    0,  371,    9,    0,\n",
              "          10,    0,    0,    0,   67,    0,    0,    7,   50,  392,    0,\n",
              "           0, 3493]])"
            ]
          },
          "metadata": {},
          "execution_count": 22
        }
      ]
    },
    {
      "cell_type": "markdown",
      "source": [
        "# 7. R2 and RMSE"
      ],
      "metadata": {
        "id": "ZPv6dE0obJu7"
      }
    },
    {
      "cell_type": "code",
      "source": [
        "train_true = df_train['future_time_diff'].tolist()\n",
        "val_true = df_val['future_time_diff'].tolist()\n",
        "test_true = df_test['future_time_diff'].tolist()\n",
        "\n",
        "train_rnn = df_train['RNN_time_diff'].tolist()\n",
        "val_rnn = df_val['RNN_time_diff'].tolist()\n",
        "test_rnn = df_test['RNN_time_diff'].tolist()"
      ],
      "metadata": {
        "id": "KO5Y2V4taw66"
      },
      "execution_count": null,
      "outputs": []
    },
    {
      "cell_type": "code",
      "source": [
        "math.sqrt(mean_squared_error(train_true, train_rnn)), math.sqrt(mean_squared_error(val_true, val_rnn)), math.sqrt(mean_squared_error(test_true, test_rnn))"
      ],
      "metadata": {
        "id": "pRR3JNq4asna",
        "colab": {
          "base_uri": "https://localhost:8080/"
        },
        "outputId": "f0138a2b-0363-466f-d7dc-ee978b5fdbe4"
      },
      "execution_count": null,
      "outputs": [
        {
          "output_type": "execute_result",
          "data": {
            "text/plain": [
              "(123222.10403613243, 128092.95153607572, 239359.80592733712)"
            ]
          },
          "metadata": {},
          "execution_count": 24
        }
      ]
    },
    {
      "cell_type": "code",
      "source": [
        "r2_score(train_true, train_rnn), r2_score(val_true, val_rnn), r2_score(test_true, test_rnn)"
      ],
      "metadata": {
        "id": "WBvQqwd4ZIFi",
        "colab": {
          "base_uri": "https://localhost:8080/"
        },
        "outputId": "28a5b501-f097-4186-99ec-ce4e59ddccca"
      },
      "execution_count": null,
      "outputs": [
        {
          "output_type": "execute_result",
          "data": {
            "text/plain": [
              "(0.2236992380153805, 0.21153693452992461, -0.026350591363622167)"
            ]
          },
          "metadata": {},
          "execution_count": 25
        }
      ]
    },
    {
      "cell_type": "code",
      "source": [
        "df_train.to_csv('/content/drive/MyDrive/Process Mining RNN/output/bpi2017_train_output.csv', index = False)\n",
        "df_val.to_csv('/content/drive/MyDrive/Process Mining RNN/output/bpi2017_val_output.csv', index = False)\n",
        "df_test.to_csv('/content/drive/MyDrive/Process Mining RNN/output/bpi2017_test_output.csv', index = False)"
      ],
      "metadata": {
        "id": "q8_2JQx6JCfC"
      },
      "execution_count": null,
      "outputs": []
    }
  ]
}